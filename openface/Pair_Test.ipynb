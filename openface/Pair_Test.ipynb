{
 "metadata": {
  "name": "",
  "signature": "sha256:1c357607b86e62ea8bd4cd6e0535461874b9bcd669c0bdfc839390a7b9bb73c8"
 },
 "nbformat": 3,
 "nbformat_minor": 0,
 "worksheets": [
  {
   "cells": [
    {
     "cell_type": "code",
     "collapsed": false,
     "input": [
      "import numpy as np\n",
      "\n",
      "def loadPairs(pairsFname):\n",
      "    print(\"  + Reading pairs.\")\n",
      "    pairs = []\n",
      "    with open(pairsFname, 'r') as f:\n",
      "        for line in f.readlines()[1:]:\n",
      "            pair = line.strip().split()\n",
      "            pairs.append(pair)\n",
      "    assert(len(pairs) == 6000)\n",
      "    return np.array(pairs)\n",
      "\n",
      "loadPairs('pairs.txt')"
     ],
     "language": "python",
     "metadata": {},
     "outputs": [
      {
       "output_type": "stream",
       "stream": "stdout",
       "text": [
        "  + Reading pairs.\n"
       ]
      },
      {
       "metadata": {},
       "output_type": "pyout",
       "prompt_number": 2,
       "text": [
        "array([['Abel_Pacheco', '1', '4'], ['Akhmed_Zakayev', '1', '3'],\n",
        "       ['Akhmed_Zakayev', '2', '3'], ...,\n",
        "       ['Shane_Loux', '1', 'Val_Ackerman', '1'],\n",
        "       ['Shawn_Marion', '1', 'Shirley_Jones', '1'],\n",
        "       ['Slobodan_Milosevic', '2', 'Sok_An', '1']], dtype=object)"
       ]
      }
     ],
     "prompt_number": 2
    },
    {
     "cell_type": "code",
     "collapsed": false,
     "input": [],
     "language": "python",
     "metadata": {},
     "outputs": []
    }
   ],
   "metadata": {}
  }
 ]
}
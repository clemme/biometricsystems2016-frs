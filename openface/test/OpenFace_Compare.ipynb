{
 "metadata": {
  "name": "",
  "signature": "sha256:c8b88bd5b2aceac9dd315b5c80e744ad5dcdf31c82749bc68c6b4dd55affadb2"
 },
 "nbformat": 3,
 "nbformat_minor": 0,
 "worksheets": [
  {
   "cells": [
    {
     "cell_type": "code",
     "collapsed": false,
     "input": [
      "from __future__ import division\n",
      "import openface\n",
      "import os\n",
      "import argparse\n",
      "import itertools\n",
      "import cv2\n",
      "import numpy as np\n",
      "from PIL import Image\n",
      "import pandas as pd\n",
      "import csv\n",
      "\n",
      "fileDir = os.path.dirname(os.path.realpath('__file__'))\n",
      "modelDir = os.path.join(fileDir, '../../../openface', 'models')\n",
      "dlibModelDir = os.path.join(modelDir, 'dlib')\n",
      "openfaceModelDir = os.path.join(modelDir, 'openface')\n",
      "defaultImgs = '~/repos/openbr/data/lfw/Bill_Gates/{Bill_Gates_0001.jpg,Bill_Gates_0001.jpg}'\n",
      "defaultdlibFacePredictor = os.path.join(dlibModelDir, \"shape_predictor_68_face_landmarks.dat\")\n",
      "defaultnetworkModel = os.path.join(openfaceModelDir, 'nn4.small2.v1.t7')\n",
      "defaultImgDim = 96\n",
      "\n",
      "align = openface.AlignDlib(defaultdlibFacePredictor)\n",
      "net = openface.TorchNeuralNet(defaultnetworkModel, defaultImgDim)\n",
      "\n",
      "def getRep(imgPath, saveAligned):\n",
      "    img = cv2.imread(imgPath)\n",
      "    \n",
      "    rgbImg = cv2.cvtColor(img, cv2.COLOR_BGR2RGB)\n",
      "\n",
      "    # `img` is a numpy matrix containing the RGB pixels of the image.\n",
      "    bb = align.getLargestFaceBoundingBox(rgbImg)\n",
      "    alignedFace = align.align(defaultImgDim, rgbImg, bb,\n",
      "                              landmarkIndices=openface.AlignDlib.OUTER_EYES_AND_NOSE)\n",
      "\n",
      "    if saveAligned:\n",
      "        alignedFaceImg = Image.fromarray(alignedFace)\n",
      "        alignedFaceImg.save(\"alignedFace.jpg\")\n",
      "\n",
      "    rep = net.forward(alignedFace)\n",
      "    return rep"
     ],
     "language": "python",
     "metadata": {},
     "outputs": [],
     "prompt_number": 142
    },
    {
     "cell_type": "code",
     "collapsed": false,
     "input": [
      "def enroll_test():\n",
      "    raw_data_path = \"../../../openbr/data/lfw\"\n",
      "    templates_path = 'templates.csv'\n",
      "    name = \"\"\n",
      "    limit = 200\n",
      "\n",
      "    columns = ['', 'Name', 'Template', 'Rep']\n",
      "    #columns = ['Name', 'Template']\n",
      "    print \"Enrolling...\"\n",
      "    i = 1\n",
      "    with open(templates_path, 'wb') as f:\n",
      "        writer = csv.writer(f, delimiter=',')\n",
      "        writer.writerows([columns])\n",
      "        for data in openface.data.iterImgs(raw_data_path):\n",
      "\n",
      "            if i > limit & limit != 0:\n",
      "                break\n",
      "\n",
      "            if (name != data.cls):\n",
      "                name = data.cls\n",
      "                #df.loc[len(df)] = [name, data.path, getRepresentation(data.path, False)]   \n",
      "                \n",
      "                row = [[i, name, data.path, getRep(data.path, False).tolist()]]\n",
      "                #row = [[name, data.path]]\n",
      "                writer.writerows(row)\n",
      "                \n",
      "                print \"[{}%] Enrolled {}\".format(i/limit * 100, name)\n",
      "                i = i + 1\n",
      "\n",
      "    \n",
      "enroll_test()"
     ],
     "language": "python",
     "metadata": {},
     "outputs": [
      {
       "output_type": "stream",
       "stream": "stdout",
       "text": [
        "Enrolling...\n",
        "[0.5%] Enrolled Sharon_Davis"
       ]
      },
      {
       "output_type": "stream",
       "stream": "stdout",
       "text": [
        "\n",
        "[1.0%] Enrolled George_Maxwell_Richards"
       ]
      },
      {
       "output_type": "stream",
       "stream": "stdout",
       "text": [
        "\n",
        "[1.5%] Enrolled Dominik_Garcia-Lorido"
       ]
      },
      {
       "output_type": "stream",
       "stream": "stdout",
       "text": [
        "\n",
        "[2.0%] Enrolled Rand_Beers"
       ]
      },
      {
       "output_type": "stream",
       "stream": "stdout",
       "text": [
        "\n",
        "[2.5%] Enrolled John_Taylor"
       ]
      },
      {
       "output_type": "stream",
       "stream": "stdout",
       "text": [
        "\n",
        "[3.0%] Enrolled Jack_Osbourne"
       ]
      },
      {
       "output_type": "stream",
       "stream": "stdout",
       "text": [
        "\n",
        "[3.5%] Enrolled Tyler_Hamilton"
       ]
      },
      {
       "output_type": "stream",
       "stream": "stdout",
       "text": [
        "\n",
        "[4.0%] Enrolled Mark_Polansky"
       ]
      },
      {
       "output_type": "stream",
       "stream": "stdout",
       "text": [
        "\n",
        "[4.5%] Enrolled Christian_Patino"
       ]
      },
      {
       "output_type": "stream",
       "stream": "stdout",
       "text": [
        "\n",
        "[5.0%] Enrolled Robbie_Naish"
       ]
      },
      {
       "output_type": "stream",
       "stream": "stdout",
       "text": [
        "\n",
        "[5.5%] Enrolled Kate_Capshaw"
       ]
      },
      {
       "output_type": "stream",
       "stream": "stdout",
       "text": [
        "\n",
        "[6.0%] Enrolled Ricardo_Monasterio"
       ]
      },
      {
       "output_type": "stream",
       "stream": "stdout",
       "text": [
        "\n",
        "[6.5%] Enrolled Anthony_Garotinho"
       ]
      },
      {
       "output_type": "stream",
       "stream": "stdout",
       "text": [
        "\n",
        "[7.0%] Enrolled Richard_Jefferson"
       ]
      },
      {
       "output_type": "stream",
       "stream": "stdout",
       "text": [
        "\n",
        "[7.5%] Enrolled Melchor_Cob_Castro"
       ]
      },
      {
       "output_type": "stream",
       "stream": "stdout",
       "text": [
        "\n",
        "[8.0%] Enrolled Jessica_Lange"
       ]
      },
      {
       "output_type": "stream",
       "stream": "stdout",
       "text": [
        "\n",
        "[8.5%] Enrolled Fred_Swan"
       ]
      },
      {
       "output_type": "stream",
       "stream": "stdout",
       "text": [
        "\n",
        "[9.0%] Enrolled Roberta_Combs"
       ]
      },
      {
       "output_type": "stream",
       "stream": "stdout",
       "text": [
        "\n",
        "[9.5%] Enrolled Syed_Abdul_Rahman_Geelani"
       ]
      },
      {
       "output_type": "stream",
       "stream": "stdout",
       "text": [
        "\n",
        "[10.0%] Enrolled Lene_Espersen"
       ]
      },
      {
       "output_type": "stream",
       "stream": "stdout",
       "text": [
        "\n",
        "[10.5%] Enrolled Robert_Weitzel"
       ]
      },
      {
       "output_type": "stream",
       "stream": "stdout",
       "text": [
        "\n",
        "[11.0%] Enrolled Arthur_Martinez"
       ]
      },
      {
       "output_type": "stream",
       "stream": "stdout",
       "text": [
        "\n",
        "[11.5%] Enrolled Suzanne_Torrance"
       ]
      },
      {
       "output_type": "stream",
       "stream": "stdout",
       "text": [
        "\n",
        "[12.0%] Enrolled Mira_Sorvino"
       ]
      },
      {
       "output_type": "stream",
       "stream": "stdout",
       "text": [
        "\n",
        "[12.5%] Enrolled Kaye_Young"
       ]
      },
      {
       "output_type": "stream",
       "stream": "stdout",
       "text": [
        "\n",
        "[13.0%] Enrolled Edmund_Stoiber"
       ]
      },
      {
       "output_type": "stream",
       "stream": "stdout",
       "text": [
        "\n",
        "[13.5%] Enrolled Christopher_Reeve"
       ]
      },
      {
       "output_type": "stream",
       "stream": "stdout",
       "text": [
        "\n",
        "[14.0%] Enrolled Kurt_Warner"
       ]
      },
      {
       "output_type": "stream",
       "stream": "stdout",
       "text": [
        "\n",
        "[14.5%] Enrolled Joe_Metz"
       ]
      },
      {
       "output_type": "stream",
       "stream": "stdout",
       "text": [
        "\n",
        "[15.0%] Enrolled Patricia_Clarkson"
       ]
      },
      {
       "output_type": "stream",
       "stream": "stdout",
       "text": [
        "\n",
        "[15.5%] Enrolled Cristian_Barros"
       ]
      },
      {
       "output_type": "stream",
       "stream": "stdout",
       "text": [
        "\n",
        "[16.0%] Enrolled George_Harrison"
       ]
      },
      {
       "output_type": "stream",
       "stream": "stdout",
       "text": [
        "\n",
        "[16.5%] Enrolled Irwan_Fadzi_Idris"
       ]
      },
      {
       "output_type": "stream",
       "stream": "stdout",
       "text": [
        "\n",
        "[17.0%] Enrolled John_Duprey"
       ]
      },
      {
       "output_type": "stream",
       "stream": "stdout",
       "text": [
        "\n",
        "[17.5%] Enrolled Pascal_Affi_Nguessan"
       ]
      },
      {
       "output_type": "stream",
       "stream": "stdout",
       "text": [
        "\n",
        "[18.0%] Enrolled John_Brady"
       ]
      },
      {
       "output_type": "stream",
       "stream": "stdout",
       "text": [
        "\n",
        "[18.5%] Enrolled Dino_Risi"
       ]
      },
      {
       "output_type": "stream",
       "stream": "stdout",
       "text": [
        "\n",
        "[19.0%] Enrolled Fernando_Sanz"
       ]
      },
      {
       "output_type": "stream",
       "stream": "stdout",
       "text": [
        "\n",
        "[19.5%] Enrolled Mike_Holmgren"
       ]
      },
      {
       "output_type": "stream",
       "stream": "stdout",
       "text": [
        "\n",
        "[20.0%] Enrolled Stacey_Yamaguchi"
       ]
      },
      {
       "output_type": "stream",
       "stream": "stdout",
       "text": [
        "\n",
        "[20.5%] Enrolled Giselle_Estefania_Tavarelli"
       ]
      },
      {
       "output_type": "stream",
       "stream": "stdout",
       "text": [
        "\n",
        "[21.0%] Enrolled Dave_Matthews"
       ]
      },
      {
       "output_type": "stream",
       "stream": "stdout",
       "text": [
        "\n",
        "[21.5%] Enrolled Nikolay_Davydenko"
       ]
      },
      {
       "output_type": "stream",
       "stream": "stdout",
       "text": [
        "\n",
        "[22.0%] Enrolled Hillary_Clinton"
       ]
      },
      {
       "output_type": "stream",
       "stream": "stdout",
       "text": [
        "\n",
        "[22.5%] Enrolled Phil_Cullen"
       ]
      },
      {
       "output_type": "stream",
       "stream": "stdout",
       "text": [
        "\n",
        "[23.0%] Enrolled Kate_Burton"
       ]
      },
      {
       "output_type": "stream",
       "stream": "stdout",
       "text": [
        "\n",
        "[23.5%] Enrolled Tzipora_Obziler"
       ]
      },
      {
       "output_type": "stream",
       "stream": "stdout",
       "text": [
        "\n",
        "[24.0%] Enrolled Nikki_McKibbin"
       ]
      },
      {
       "output_type": "stream",
       "stream": "stdout",
       "text": [
        "\n",
        "[24.5%] Enrolled Wilfredo_Moreno"
       ]
      },
      {
       "output_type": "stream",
       "stream": "stdout",
       "text": [
        "\n",
        "[25.0%] Enrolled Joseph_Ganim"
       ]
      },
      {
       "output_type": "stream",
       "stream": "stdout",
       "text": [
        "\n",
        "[25.5%] Enrolled Chok_Tong_Goh"
       ]
      },
      {
       "output_type": "stream",
       "stream": "stdout",
       "text": [
        "\n",
        "[26.0%] Enrolled Romeo_Gigli"
       ]
      },
      {
       "output_type": "stream",
       "stream": "stdout",
       "text": [
        "\n",
        "[26.5%] Enrolled Mike_Martz"
       ]
      },
      {
       "output_type": "stream",
       "stream": "stdout",
       "text": [
        "\n",
        "[27.0%] Enrolled Itzhak_Perlman"
       ]
      },
      {
       "output_type": "stream",
       "stream": "stdout",
       "text": [
        "\n",
        "[27.5%] Enrolled Paul_Wilson"
       ]
      },
      {
       "output_type": "stream",
       "stream": "stdout",
       "text": [
        "\n",
        "[28.0%] Enrolled Michael_Phelps"
       ]
      },
      {
       "output_type": "stream",
       "stream": "stdout",
       "text": [
        "\n",
        "[28.5%] Enrolled Natalie_Williams"
       ]
      },
      {
       "output_type": "stream",
       "stream": "stdout",
       "text": [
        "\n",
        "[29.0%] Enrolled Mohammed_Al-Douri"
       ]
      },
      {
       "output_type": "stream",
       "stream": "stdout",
       "text": [
        "\n",
        "[29.5%] Enrolled Mark_Rosenbaum"
       ]
      },
      {
       "output_type": "stream",
       "stream": "stdout",
       "text": [
        "\n",
        "[30.0%] Enrolled Greg_Ostertag"
       ]
      },
      {
       "output_type": "stream",
       "stream": "stdout",
       "text": [
        "\n",
        "[30.5%] Enrolled Scott_Hoch"
       ]
      },
      {
       "output_type": "stream",
       "stream": "stdout",
       "text": [
        "\n",
        "[31.0%] Enrolled Jerelle_Kraus"
       ]
      },
      {
       "output_type": "stream",
       "stream": "stdout",
       "text": [
        "\n",
        "[31.5%] Enrolled Giannina_Facio"
       ]
      },
      {
       "output_type": "stream",
       "stream": "stdout",
       "text": [
        "\n",
        "[32.0%] Enrolled Michael_Adams"
       ]
      },
      {
       "output_type": "stream",
       "stream": "stdout",
       "text": [
        "\n",
        "[32.5%] Enrolled Miguel_Angel_Rodriguez"
       ]
      },
      {
       "output_type": "stream",
       "stream": "stdout",
       "text": [
        "\n",
        "[33.0%] Enrolled Robert_Witt"
       ]
      },
      {
       "output_type": "stream",
       "stream": "stdout",
       "text": [
        "\n",
        "[33.5%] Enrolled Theresa_Gattung"
       ]
      },
      {
       "output_type": "stream",
       "stream": "stdout",
       "text": [
        "\n",
        "[34.0%] Enrolled Natalie_Stewart"
       ]
      },
      {
       "output_type": "stream",
       "stream": "stdout",
       "text": [
        "\n",
        "[34.5%] Enrolled Hatsui_Hasuike"
       ]
      },
      {
       "output_type": "stream",
       "stream": "stdout",
       "text": [
        "\n",
        "[35.0%] Enrolled Terri_Clark"
       ]
      },
      {
       "output_type": "stream",
       "stream": "stdout",
       "text": [
        "\n",
        "[35.5%] Enrolled Guy_Ritchie"
       ]
      },
      {
       "output_type": "stream",
       "stream": "stdout",
       "text": [
        "\n",
        "[36.0%] Enrolled David_Duval"
       ]
      },
      {
       "output_type": "stream",
       "stream": "stdout",
       "text": [
        "\n",
        "[36.5%] Enrolled Monte_Kiffin"
       ]
      },
      {
       "output_type": "stream",
       "stream": "stdout",
       "text": [
        "\n",
        "[37.0%] Enrolled Chris_Thomas"
       ]
      },
      {
       "output_type": "stream",
       "stream": "stdout",
       "text": [
        "\n",
        "[37.5%] Enrolled Billy_Crawford"
       ]
      },
      {
       "output_type": "stream",
       "stream": "stdout",
       "text": [
        "\n",
        "[38.0%] Enrolled Reina_Hayes"
       ]
      },
      {
       "output_type": "stream",
       "stream": "stdout",
       "text": [
        "\n",
        "[38.5%] Enrolled Javier_Camara"
       ]
      },
      {
       "output_type": "stream",
       "stream": "stdout",
       "text": [
        "\n",
        "[39.0%] Enrolled Barbara_Bach"
       ]
      },
      {
       "output_type": "stream",
       "stream": "stdout",
       "text": [
        "\n",
        "[39.5%] Enrolled Felix_Sanchez"
       ]
      },
      {
       "output_type": "stream",
       "stream": "stdout",
       "text": [
        "\n",
        "[40.0%] Enrolled John_Eder"
       ]
      },
      {
       "output_type": "stream",
       "stream": "stdout",
       "text": [
        "\n",
        "[40.5%] Enrolled Sarah_Michelle_Gellar"
       ]
      },
      {
       "output_type": "stream",
       "stream": "stdout",
       "text": [
        "\n",
        "[41.0%] Enrolled Roger_Cook"
       ]
      },
      {
       "output_type": "stream",
       "stream": "stdout",
       "text": [
        "\n",
        "[41.5%] Enrolled Ben_Cohen"
       ]
      },
      {
       "output_type": "stream",
       "stream": "stdout",
       "text": [
        "\n",
        "[42.0%] Enrolled Hana_Sadiq"
       ]
      },
      {
       "output_type": "stream",
       "stream": "stdout",
       "text": [
        "\n",
        "[42.5%] Enrolled Katharine_Hepburn"
       ]
      },
      {
       "output_type": "stream",
       "stream": "stdout",
       "text": [
        "\n",
        "[43.0%] Enrolled Theo_Angelopoulos"
       ]
      },
      {
       "output_type": "stream",
       "stream": "stdout",
       "text": [
        "\n",
        "[43.5%] Enrolled Paul_Johnson"
       ]
      },
      {
       "output_type": "stream",
       "stream": "stdout",
       "text": [
        "\n",
        "[44.0%] Enrolled Mia_Mottley"
       ]
      },
      {
       "output_type": "stream",
       "stream": "stdout",
       "text": [
        "\n",
        "[44.5%] Enrolled Teri_ORourke"
       ]
      },
      {
       "output_type": "stream",
       "stream": "stdout",
       "text": [
        "\n",
        "[45.0%] Enrolled Sue_Guevara"
       ]
      },
      {
       "output_type": "stream",
       "stream": "stdout",
       "text": [
        "\n",
        "[45.5%] Enrolled Jose_Genoino"
       ]
      },
      {
       "output_type": "stream",
       "stream": "stdout",
       "text": [
        "\n",
        "[46.0%] Enrolled Mark_Hamister"
       ]
      },
      {
       "output_type": "stream",
       "stream": "stdout",
       "text": [
        "\n",
        "[46.5%] Enrolled Hans_Peter_Briegel"
       ]
      },
      {
       "output_type": "stream",
       "stream": "stdout",
       "text": [
        "\n",
        "[47.0%] Enrolled Jim_Jeffords"
       ]
      },
      {
       "output_type": "stream",
       "stream": "stdout",
       "text": [
        "\n",
        "[47.5%] Enrolled Hal_Gehman"
       ]
      },
      {
       "output_type": "stream",
       "stream": "stdout",
       "text": [
        "\n",
        "[48.0%] Enrolled Munir_Akram"
       ]
      },
      {
       "output_type": "stream",
       "stream": "stdout",
       "text": [
        "\n",
        "[48.5%] Enrolled Princess_Stephanie"
       ]
      },
      {
       "output_type": "stream",
       "stream": "stdout",
       "text": [
        "\n",
        "[49.0%] Enrolled Charles_Richardson"
       ]
      },
      {
       "output_type": "stream",
       "stream": "stdout",
       "text": [
        "\n",
        "[49.5%] Enrolled Bill_Butler"
       ]
      },
      {
       "output_type": "stream",
       "stream": "stdout",
       "text": [
        "\n",
        "[50.0%] Enrolled Lee_Byung-woong"
       ]
      },
      {
       "output_type": "stream",
       "stream": "stdout",
       "text": [
        "\n",
        "[50.5%] Enrolled Dave_Barr"
       ]
      },
      {
       "output_type": "stream",
       "stream": "stdout",
       "text": [
        "\n",
        "[51.0%] Enrolled Carla_Sullivan"
       ]
      },
      {
       "output_type": "stream",
       "stream": "stdout",
       "text": [
        "\n",
        "[51.5%] Enrolled Timothy_Coughlin"
       ]
      },
      {
       "output_type": "stream",
       "stream": "stdout",
       "text": [
        "\n",
        "[52.0%] Enrolled Eunice_Barber"
       ]
      },
      {
       "output_type": "stream",
       "stream": "stdout",
       "text": [
        "\n",
        "[52.5%] Enrolled Michael_Guiler"
       ]
      },
      {
       "output_type": "stream",
       "stream": "stdout",
       "text": [
        "\n",
        "[53.0%] Enrolled James_Hakett"
       ]
      },
      {
       "output_type": "stream",
       "stream": "stdout",
       "text": [
        "\n",
        "[53.5%] Enrolled James_Barksdale"
       ]
      },
      {
       "output_type": "stream",
       "stream": "stdout",
       "text": [
        "\n",
        "[54.0%] Enrolled Stella_Keitel"
       ]
      },
      {
       "output_type": "stream",
       "stream": "stdout",
       "text": [
        "\n",
        "[54.5%] Enrolled Carina_Lau_Ka-ling"
       ]
      },
      {
       "output_type": "stream",
       "stream": "stdout",
       "text": [
        "\n",
        "[55.0%] Enrolled Carol_Carmody"
       ]
      },
      {
       "output_type": "stream",
       "stream": "stdout",
       "text": [
        "\n",
        "[55.5%] Enrolled Rich_Brooks"
       ]
      },
      {
       "output_type": "stream",
       "stream": "stdout",
       "text": [
        "\n",
        "[56.0%] Enrolled Rod_Thorn"
       ]
      },
      {
       "output_type": "stream",
       "stream": "stdout",
       "text": [
        "\n",
        "[56.5%] Enrolled Paul_Cerjan"
       ]
      },
      {
       "output_type": "stream",
       "stream": "stdout",
       "text": [
        "\n",
        "[57.0%] Enrolled Farida_Ragoonanan"
       ]
      },
      {
       "output_type": "stream",
       "stream": "stdout",
       "text": [
        "\n",
        "[57.5%] Enrolled Fernando_Leon_de_Aranoa"
       ]
      },
      {
       "output_type": "stream",
       "stream": "stdout",
       "text": [
        "\n",
        "[58.0%] Enrolled Elizabeth_Hurley"
       ]
      },
      {
       "output_type": "stream",
       "stream": "stdout",
       "text": [
        "\n",
        "[58.5%] Enrolled Mireya_Moscoso"
       ]
      },
      {
       "output_type": "stream",
       "stream": "stdout",
       "text": [
        "\n",
        "[59.0%] Enrolled Naomi_Bronstein"
       ]
      },
      {
       "output_type": "stream",
       "stream": "stdout",
       "text": [
        "\n",
        "[59.5%] Enrolled Loretta_Lynn_Harper"
       ]
      },
      {
       "output_type": "stream",
       "stream": "stdout",
       "text": [
        "\n",
        "[60.0%] Enrolled Melissa_Mulloy"
       ]
      },
      {
       "output_type": "stream",
       "stream": "stdout",
       "text": [
        "\n",
        "[60.5%] Enrolled Tim_Duncan"
       ]
      },
      {
       "output_type": "stream",
       "stream": "stdout",
       "text": [
        "\n",
        "[61.0%] Enrolled Tim_Matheson"
       ]
      },
      {
       "output_type": "stream",
       "stream": "stdout",
       "text": [
        "\n",
        "[61.5%] Enrolled Ian_Huntley"
       ]
      },
      {
       "output_type": "stream",
       "stream": "stdout",
       "text": [
        "\n",
        "[62.0%] Enrolled Ann_Landers"
       ]
      },
      {
       "output_type": "stream",
       "stream": "stdout",
       "text": [
        "\n",
        "[62.5%] Enrolled Brandon_Boyd"
       ]
      },
      {
       "output_type": "stream",
       "stream": "stdout",
       "text": [
        "\n",
        "[63.0%] Enrolled Sergei_Alexandrovitch_Ordzhonikidze"
       ]
      },
      {
       "output_type": "stream",
       "stream": "stdout",
       "text": [
        "\n",
        "[63.5%] Enrolled Stephen_Swindal"
       ]
      },
      {
       "output_type": "stream",
       "stream": "stdout",
       "text": [
        "\n",
        "[64.0%] Enrolled Justin_Timberlake"
       ]
      },
      {
       "output_type": "stream",
       "stream": "stdout",
       "text": [
        "\n",
        "[64.5%] Enrolled Gustavo_Franco"
       ]
      },
      {
       "output_type": "stream",
       "stream": "stdout",
       "text": [
        "\n",
        "[65.0%] Enrolled Max_Baucus"
       ]
      },
      {
       "output_type": "stream",
       "stream": "stdout",
       "text": [
        "\n",
        "[65.5%] Enrolled Serena_Williams"
       ]
      },
      {
       "output_type": "stream",
       "stream": "stdout",
       "text": [
        "\n",
        "[66.0%] Enrolled Picabo_Street"
       ]
      },
      {
       "output_type": "stream",
       "stream": "stdout",
       "text": [
        "\n",
        "[66.5%] Enrolled Katie_Holmes"
       ]
      },
      {
       "output_type": "stream",
       "stream": "stdout",
       "text": [
        "\n",
        "[67.0%] Enrolled Torri_Edwards"
       ]
      },
      {
       "output_type": "stream",
       "stream": "stdout",
       "text": [
        "\n",
        "[67.5%] Enrolled Sun_Myung_Moon"
       ]
      },
      {
       "output_type": "stream",
       "stream": "stdout",
       "text": [
        "\n",
        "[68.0%] Enrolled George_Karl"
       ]
      },
      {
       "output_type": "stream",
       "stream": "stdout",
       "text": [
        "\n",
        "[68.5%] Enrolled Budd_Schulberg"
       ]
      },
      {
       "output_type": "stream",
       "stream": "stdout",
       "text": [
        "\n",
        "[69.0%] Enrolled Brian_Schneider"
       ]
      },
      {
       "output_type": "stream",
       "stream": "stdout",
       "text": [
        "\n",
        "[69.5%] Enrolled Spike_Jonze"
       ]
      },
      {
       "output_type": "stream",
       "stream": "stdout",
       "text": [
        "\n",
        "[70.0%] Enrolled Larry_Tanenbaum"
       ]
      },
      {
       "output_type": "stream",
       "stream": "stdout",
       "text": [
        "\n",
        "[70.5%] Enrolled Rodolfo_Abalos"
       ]
      },
      {
       "output_type": "stream",
       "stream": "stdout",
       "text": [
        "\n",
        "[71.0%] Enrolled Nigel_Redden"
       ]
      },
      {
       "output_type": "stream",
       "stream": "stdout",
       "text": [
        "\n",
        "[71.5%] Enrolled Arantxa_Sanchez-Vicario"
       ]
      },
      {
       "output_type": "stream",
       "stream": "stdout",
       "text": [
        "\n",
        "[72.0%] Enrolled Gong_Li"
       ]
      },
      {
       "output_type": "stream",
       "stream": "stdout",
       "text": [
        "\n",
        "[72.5%] Enrolled Maria_Guida"
       ]
      },
      {
       "output_type": "stream",
       "stream": "stdout",
       "text": [
        "\n",
        "[73.0%] Enrolled Christopher_Conyers"
       ]
      },
      {
       "output_type": "stream",
       "stream": "stdout",
       "text": [
        "\n",
        "[73.5%] Enrolled Robert_Nillson"
       ]
      },
      {
       "output_type": "stream",
       "stream": "stdout",
       "text": [
        "\n",
        "[74.0%] Enrolled Luiz_Inacio_Lula_da_Silva"
       ]
      },
      {
       "output_type": "stream",
       "stream": "stdout",
       "text": [
        "\n",
        "[74.5%] Enrolled Nathalie_Baye"
       ]
      },
      {
       "output_type": "stream",
       "stream": "stdout",
       "text": [
        "\n",
        "[75.0%] Enrolled Porter_Goss"
       ]
      },
      {
       "output_type": "stream",
       "stream": "stdout",
       "text": [
        "\n",
        "[75.5%] Enrolled Peter_Costello"
       ]
      },
      {
       "output_type": "stream",
       "stream": "stdout",
       "text": [
        "\n",
        "[76.0%] Enrolled Paul_LeClerc"
       ]
      },
      {
       "output_type": "stream",
       "stream": "stdout",
       "text": [
        "\n",
        "[76.5%] Enrolled Clara_Harris"
       ]
      },
      {
       "output_type": "stream",
       "stream": "stdout",
       "text": [
        "\n",
        "[77.0%] Enrolled Steve_Karsay"
       ]
      },
      {
       "output_type": "stream",
       "stream": "stdout",
       "text": [
        "\n",
        "[77.5%] Enrolled Carlos_Salinas"
       ]
      },
      {
       "output_type": "stream",
       "stream": "stdout",
       "text": [
        "\n",
        "[78.0%] Enrolled Izzat_Ibrahim"
       ]
      },
      {
       "output_type": "stream",
       "stream": "stdout",
       "text": [
        "\n",
        "[78.5%] Enrolled Gary_Bergeron"
       ]
      },
      {
       "output_type": "stream",
       "stream": "stdout",
       "text": [
        "\n",
        "[79.0%] Enrolled John_Stockton"
       ]
      },
      {
       "output_type": "stream",
       "stream": "stdout",
       "text": [
        "\n",
        "[79.5%] Enrolled Fatmir_Limaj"
       ]
      },
      {
       "output_type": "stream",
       "stream": "stdout",
       "text": [
        "\n",
        "[80.0%] Enrolled Andres_Pastrana"
       ]
      },
      {
       "output_type": "stream",
       "stream": "stdout",
       "text": [
        "\n",
        "[80.5%] Enrolled Jerry_Lewis"
       ]
      },
      {
       "output_type": "stream",
       "stream": "stdout",
       "text": [
        "\n",
        "[81.0%] Enrolled Sigourney_Weaver"
       ]
      },
      {
       "output_type": "stream",
       "stream": "stdout",
       "text": [
        "\n",
        "[81.5%] Enrolled William_Rehnquist"
       ]
      },
      {
       "output_type": "stream",
       "stream": "stdout",
       "text": [
        "\n",
        "[82.0%] Enrolled Tracy_Wyle"
       ]
      },
      {
       "output_type": "stream",
       "stream": "stdout",
       "text": [
        "\n",
        "[82.5%] Enrolled Jorge_Alberto_Galindo"
       ]
      },
      {
       "output_type": "stream",
       "stream": "stdout",
       "text": [
        "\n",
        "[83.0%] Enrolled Shannyn_Sossamon"
       ]
      },
      {
       "output_type": "stream",
       "stream": "stdout",
       "text": [
        "\n",
        "[83.5%] Enrolled Gwendal_Peizerat"
       ]
      },
      {
       "output_type": "stream",
       "stream": "stdout",
       "text": [
        "\n",
        "[84.0%] Enrolled Rick_Reed"
       ]
      },
      {
       "output_type": "stream",
       "stream": "stdout",
       "text": [
        "\n",
        "[84.5%] Enrolled Jeremy_Wotherspoon"
       ]
      },
      {
       "output_type": "stream",
       "stream": "stdout",
       "text": [
        "\n",
        "[85.0%] Enrolled Pamela_Melroy"
       ]
      },
      {
       "output_type": "stream",
       "stream": "stdout",
       "text": [
        "\n",
        "[85.5%] Enrolled Arturo_Gatti"
       ]
      },
      {
       "output_type": "stream",
       "stream": "stdout",
       "text": [
        "\n",
        "[86.0%] Enrolled Khum_Bahadur_Khadka"
       ]
      },
      {
       "output_type": "stream",
       "stream": "stdout",
       "text": [
        "\n",
        "[86.5%] Enrolled Jean-Francois_Pontal"
       ]
      },
      {
       "output_type": "stream",
       "stream": "stdout",
       "text": [
        "\n",
        "[87.0%] Enrolled Gina_Torres"
       ]
      },
      {
       "output_type": "stream",
       "stream": "stdout",
       "text": [
        "\n",
        "[87.5%] Enrolled Mara_Georges"
       ]
      },
      {
       "output_type": "stream",
       "stream": "stdout",
       "text": [
        "\n",
        "[88.0%] Enrolled Mary_Hill"
       ]
      },
      {
       "output_type": "stream",
       "stream": "stdout",
       "text": [
        "\n",
        "[88.5%] Enrolled Norm_Macdonald"
       ]
      },
      {
       "output_type": "stream",
       "stream": "stdout",
       "text": [
        "\n",
        "[89.0%] Enrolled Kevin_Harvick"
       ]
      },
      {
       "output_type": "stream",
       "stream": "stdout",
       "text": [
        "\n",
        "[89.5%] Enrolled Earl_Counter"
       ]
      },
      {
       "output_type": "stream",
       "stream": "stdout",
       "text": [
        "\n",
        "[90.0%] Enrolled Luc_Montagnier"
       ]
      },
      {
       "output_type": "stream",
       "stream": "stdout",
       "text": [
        "\n",
        "[90.5%] Enrolled Peter_Schultz"
       ]
      },
      {
       "output_type": "stream",
       "stream": "stdout",
       "text": [
        "\n",
        "[91.0%] Enrolled Teresa_Worbis"
       ]
      },
      {
       "output_type": "stream",
       "stream": "stdout",
       "text": [
        "\n",
        "[91.5%] Enrolled Lester_Holt"
       ]
      },
      {
       "output_type": "stream",
       "stream": "stdout",
       "text": [
        "\n",
        "[92.0%] Enrolled Patrick_Rafter"
       ]
      },
      {
       "output_type": "stream",
       "stream": "stdout",
       "text": [
        "\n",
        "[92.5%] Enrolled Eric_Bana"
       ]
      },
      {
       "output_type": "stream",
       "stream": "stdout",
       "text": [
        "\n",
        "[93.0%] Enrolled Anthony_Principi"
       ]
      },
      {
       "output_type": "stream",
       "stream": "stdout",
       "text": [
        "\n",
        "[93.5%] Enrolled John_Blaney"
       ]
      },
      {
       "output_type": "stream",
       "stream": "stdout",
       "text": [
        "\n",
        "[94.0%] Enrolled Bryant_Young"
       ]
      },
      {
       "output_type": "stream",
       "stream": "stdout",
       "text": [
        "\n",
        "[94.5%] Enrolled Michel_Therrien"
       ]
      },
      {
       "output_type": "stream",
       "stream": "stdout",
       "text": [
        "\n",
        "[95.0%] Enrolled Andrew_Fastow"
       ]
      },
      {
       "output_type": "stream",
       "stream": "stdout",
       "text": [
        "\n",
        "[95.5%] Enrolled Andrew_Weissmann"
       ]
      },
      {
       "output_type": "stream",
       "stream": "stdout",
       "text": [
        "\n",
        "[96.0%] Enrolled John_Nimmo"
       ]
      },
      {
       "output_type": "stream",
       "stream": "stdout",
       "text": [
        "\n",
        "[96.5%] Enrolled Lima_Azimi"
       ]
      },
      {
       "output_type": "stream",
       "stream": "stdout",
       "text": [
        "\n",
        "[97.0%] Enrolled Jose_Viegas_Filho"
       ]
      },
      {
       "output_type": "stream",
       "stream": "stdout",
       "text": [
        "\n",
        "[97.5%] Enrolled Craig_Morgan"
       ]
      },
      {
       "output_type": "stream",
       "stream": "stdout",
       "text": [
        "\n",
        "[98.0%] Enrolled Wolfgang_Schwarz"
       ]
      },
      {
       "output_type": "stream",
       "stream": "stdout",
       "text": [
        "\n",
        "[98.5%] Enrolled Elaine_Stritch"
       ]
      },
      {
       "output_type": "stream",
       "stream": "stdout",
       "text": [
        "\n",
        "[99.0%] Enrolled Denys_Arcand"
       ]
      },
      {
       "output_type": "stream",
       "stream": "stdout",
       "text": [
        "\n",
        "[99.5%] Enrolled Sheila_Fraser"
       ]
      },
      {
       "output_type": "stream",
       "stream": "stdout",
       "text": [
        "\n",
        "[100.0%] Enrolled Marie-Reine_Le_Gougne"
       ]
      },
      {
       "output_type": "stream",
       "stream": "stdout",
       "text": [
        "\n"
       ]
      }
     ],
     "prompt_number": 104
    },
    {
     "cell_type": "code",
     "collapsed": false,
     "input": [
      "print \"Loading template database...\"\n",
      "df = pd.DataFrame.from_csv('templates.csv')\n",
      "print \"Scanning probe...\"\n",
      "probe = '../../../openbr/data/lfw/Sharon_Davis/Sharon_Davis_0002.jpg'\n",
      "probe_rep = getRep(probe, False)\n",
      "\n",
      "print \"Comparing with enrolled templates...\"\n",
      "import ast\n",
      "def calc_dist(row):\n",
      "    #print type(np.asarray(ast.literal_eval(row['Rep'])))\n",
      "    a =  np.asarray(ast.literal_eval(row['Rep']))\n",
      "    #print probe_rep\n",
      "    d = a - probe_rep\n",
      "    return np.dot(d, d) # distance\n",
      "\n",
      "df['Distance'] = df.apply(calc_dist, axis=1)\n",
      "\n",
      "result = df.sort_values(by='Distance', ascending=True).iloc[0]\n",
      "result.head()"
     ],
     "language": "python",
     "metadata": {},
     "outputs": [
      {
       "output_type": "stream",
       "stream": "stdout",
       "text": [
        "Loading template database...\n",
        "Scanning probe...\n",
        "Comparing with enrolled templates..."
       ]
      },
      {
       "output_type": "stream",
       "stream": "stdout",
       "text": [
        "\n"
       ]
      },
      {
       "metadata": {},
       "output_type": "pyout",
       "prompt_number": 105,
       "text": [
        "Name                                             Sharon_Davis\n",
        "Template    ../../../openbr/data/lfw/Sharon_Davis/Sharon_D...\n",
        "Rep         [0.030748624354601, 0.037615872919559, -0.0516...\n",
        "Distance                                             0.289979\n",
        "Name: 1, dtype: object"
       ]
      }
     ],
     "prompt_number": 105
    },
    {
     "cell_type": "code",
     "collapsed": false,
     "input": [
      "from xml.dom import minidom\n",
      "data_dir = '../../../openbr/data/LFW/'\n",
      "image_dir = os.path.join(data_dir, 'img/')\n",
      "training_ref_path = os.path.join(data_dir,'sigset/test_image_restricted_target.xml')\n",
      "test_ref_path = os.path.join(data_dir,'sigset/test_image_restricted_query.xml')\n",
      "\n",
      "training_ref = minidom.parse(training_ref_path)\n",
      "training_sigs = training_ref.getElementsByTagName('presentation')\n",
      "training_length = len(training_sigs)\n",
      "\n",
      "templates_path = \"template2.csv\"\n",
      "columns = ['', 'Name', 'Template', 'Rep'] # columns for templates_db\n",
      "\n",
      "i = 0 # overall training counter\n",
      "y = 0 # granular status counter\n",
      "limit = training_length # limit amount of enrolling images (set to 0 to enroll all)\n",
      "\n",
      "print \"Enrolling {} images...\".format(training_length)\n",
      "print \"First entry: {}\".format(training_sigs[0].attributes['file-name'].value)\n",
      "\n",
      "with open(templates_path, 'wb') as f:\n",
      "    writer = csv.writer(f, delimiter=',')\n",
      "    writer.writerows([columns])\n",
      "\n",
      "    for s in training_sigs:\n",
      "        name = s.attributes['file-name'].value.split('/')[0]\n",
      "        fname = image_dir + s.attributes['file-name'].value\n",
      "        \n",
      "        #print \"[{}%] Enrolling {}\".format(i/limit * 100, fname)\n",
      "        \n",
      "        rpath = os.path.join(data_dir,fname)\n",
      "        \n",
      "        row = [[i, name, rpath, getRep(rpath, False).tolist()]]\n",
      "        writer.writerows(row)\n",
      "        \n",
      "        i = i + 1\n",
      "        y = y + 1\n",
      "        \n",
      "        if y > 100:\n",
      "            print \"[{0:.2f}%] Enrolled 100 images\".format(i/limit * 100)\n",
      "            y = 0"
     ],
     "language": "python",
     "metadata": {},
     "outputs": []
    },
    {
     "cell_type": "code",
     "collapsed": false,
     "input": [],
     "language": "python",
     "metadata": {},
     "outputs": []
    }
   ],
   "metadata": {}
  }
 ]
}
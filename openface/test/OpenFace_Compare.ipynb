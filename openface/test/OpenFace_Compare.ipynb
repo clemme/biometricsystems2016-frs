{
 "metadata": {
  "name": "",
  "signature": "sha256:b29c7eb6d9790e3012c6bd8001428764ce81f230b2594b233b1995e859a3609b"
 },
 "nbformat": 3,
 "nbformat_minor": 0,
 "worksheets": [
  {
   "cells": [
    {
     "cell_type": "code",
     "collapsed": false,
     "input": [
      "from __future__ import division\n",
      "import openface\n",
      "import os\n",
      "import argparse\n",
      "import itertools\n",
      "import cv2\n",
      "import numpy as np\n",
      "from PIL import Image\n",
      "import pandas as pd\n",
      "import csv\n",
      "import ast\n",
      "from xml.dom import minidom\n",
      "from datetime import datetime"
     ],
     "language": "python",
     "metadata": {},
     "outputs": [],
     "prompt_number": 1
    },
    {
     "cell_type": "code",
     "collapsed": false,
     "input": [
      "def write_log(msg):\n",
      "    msg = \"[{}] {}\".format(datetime.now().strftime('%Y-%m-%d %H:%M:%S'), msg)\n",
      "    print msg\n",
      "    with open('log.csv', 'a') as l:\n",
      "        csv.writer(l, delimiter=\",\").writerow([msg])"
     ],
     "language": "python",
     "metadata": {},
     "outputs": [],
     "prompt_number": 2
    },
    {
     "cell_type": "code",
     "collapsed": false,
     "input": [
      "fileDir = os.path.dirname(os.path.realpath('__file__'))\n",
      "modelDir = os.path.join(fileDir, '../../../openface', 'models')\n",
      "dlibModelDir = os.path.join(modelDir, 'dlib')\n",
      "openfaceModelDir = os.path.join(modelDir, 'openface')\n",
      "defaultImgs = '~/repos/openbr/data/lfw/Bill_Gates/{Bill_Gates_0001.jpg,Bill_Gates_0001.jpg}'\n",
      "defaultdlibFacePredictor = os.path.join(dlibModelDir, \"shape_predictor_68_face_landmarks.dat\")\n",
      "defaultnetworkModel = os.path.join(openfaceModelDir, 'nn4.small2.v1.t7')\n",
      "defaultImgDim = 96\n",
      "\n",
      "align = openface.AlignDlib(defaultdlibFacePredictor)\n",
      "net = openface.TorchNeuralNet(defaultnetworkModel, defaultImgDim)\n",
      "\n",
      "def getRep(imgPath, saveAligned):\n",
      "    with open('log.csv', 'a') as f:\n",
      "        writer = csv.writer(f, delimiter=',')\n",
      "        writer.writerows([columns])\n",
      "        img = cv2.imread(imgPath)\n",
      "\n",
      "        msg = \"\"\n",
      "        \n",
      "        if img is None:\n",
      "            msg = [imgPath, \"Unable to load image\"]\n",
      "            writer.writerow([[msg]])\n",
      "            return np.array([])\n",
      "\n",
      "        rgbImg = cv2.cvtColor(img, cv2.COLOR_BGR2RGB)\n",
      "        \n",
      "        if img is None:\n",
      "            msg = [imgPath, \"Unable to convert image to rgb\"]\n",
      "            writer.writerow([[msg]])\n",
      "            return np.array([])\n",
      "\n",
      "        # `img` is a numpy matrix containing the RGB pixels of the image.\n",
      "        bb = align.getLargestFaceBoundingBox(rgbImg)\n",
      "        \n",
      "        if bb is None:\n",
      "            msg = [imgPath, \"Unable to find a face\"] \n",
      "            writer.writerow([[msg]])\n",
      "            return np.array([])\n",
      "        \n",
      "        alignedFace = align.align(defaultImgDim, rgbImg, bb,\n",
      "                                  landmarkIndices=openface.AlignDlib.OUTER_EYES_AND_NOSE)\n",
      "        \n",
      "        if alignedFace is None:\n",
      "            msg = [imgPath, \"Unable to align image\"]\n",
      "            writer.writerow([[msg]])\n",
      "            return np.array([])\n",
      "\n",
      "        if saveAligned:\n",
      "            alignedFaceImg = Image.fromarray(alignedFace)\n",
      "            alignedFaceImg.save(\"alignedFace.jpg\")\n",
      "\n",
      "        rep = net.forward(alignedFace)\n",
      "        return rep"
     ],
     "language": "python",
     "metadata": {},
     "outputs": [],
     "prompt_number": 15
    },
    {
     "cell_type": "code",
     "collapsed": false,
     "input": [
      "def enroll_test():\n",
      "    raw_data_path = \"../../../openbr/data/lfw\"\n",
      "    templates_path = 'templates.csv'\n",
      "    name = \"\"\n",
      "    limit = 200\n",
      "\n",
      "    columns = ['', 'Name', 'Template', 'Rep']\n",
      "    #columns = ['Name', 'Template']\n",
      "    print \"Enrolling...\"\n",
      "    i = 1\n",
      "    with open(templates_path, 'wb') as f:\n",
      "        writer = csv.writer(f, delimiter=',')\n",
      "        writer.writerows([columns])\n",
      "        for data in openface.data.iterImgs(raw_data_path):\n",
      "\n",
      "            if i > limit & limit != 0:\n",
      "                break\n",
      "\n",
      "            if (name != data.cls):\n",
      "                name = data.cls\n",
      "                #df.loc[len(df)] = [name, data.path, getRepresentation(data.path, False)]   \n",
      "                \n",
      "                row = [[i, name, data.path, getRep(data.path, False).tolist()]]\n",
      "                #row = [[name, data.path]]\n",
      "                writer.writerows(row)\n",
      "                \n",
      "                print \"[{}%] Enrolled {}\".format(i/limit * 100, name)\n",
      "                i = i + 1\n",
      "\n",
      "    \n",
      "enroll_test()"
     ],
     "language": "python",
     "metadata": {},
     "outputs": [],
     "prompt_number": 104
    },
    {
     "cell_type": "code",
     "collapsed": false,
     "input": [
      "print \"Loading template database...\"\n",
      "df = pd.DataFrame.from_csv('templates.csv')\n",
      "print \"Scanning probe...\"\n",
      "probe = '../../../openbr/data/lfw/Sharon_Davis/Sharon_Davis_0002.jpg'\n",
      "probe_rep = getRep(probe, False)\n",
      "\n",
      "print \"Comparing with enrolled templates...\"\n",
      "import ast\n",
      "def calc_dist(row):\n",
      "    #print type(np.asarray(ast.literal_eval(row['Rep'])))\n",
      "    a =  np.asarray(ast.literal_eval(row['Rep']))\n",
      "    #print probe_rep\n",
      "    d = a - probe_rep\n",
      "    return np.dot(d, d) # distance\n",
      "\n",
      "df['Distance'] = df.apply(calc_dist, axis=1)\n",
      "\n",
      "result = df.sort_values(by='Distance', ascending=True).iloc[0]\n",
      "result.head()"
     ],
     "language": "python",
     "metadata": {},
     "outputs": [],
     "prompt_number": 105
    },
    {
     "cell_type": "code",
     "collapsed": false,
     "input": [
      "data_dir = '../../../openbr/data/LFW/'\n",
      "image_dir = os.path.join(data_dir, 'img/')\n",
      "training_ref_path = os.path.join(data_dir,'sigset/test_image_restricted_target.xml')\n",
      "test_ref_path = os.path.join(data_dir,'sigset/test_image_restricted_query.xml')\n",
      "\n",
      "training_ref = minidom.parse(training_ref_path)\n",
      "training_sigs = training_ref.getElementsByTagName('presentation')\n",
      "training_length = len(training_sigs)\n",
      "\n",
      "templates_path = \"template2.csv\"\n",
      "columns = ['', 'Name', 'Template', 'Rep'] # columns for templates_db\n",
      "\n",
      "start_from_index = 0 # index the enrollment should start from\n",
      "continue_from_last = False # set true to continue enrollment from last index in csv file (template path)\n",
      "\n",
      "if continue_from_last:\n",
      "    with open(templates_path,\"r\") as f:\n",
      "        reader = csv.reader(f,delimiter = \",\")\n",
      "        data = list(reader)\n",
      "        start_from_index = len(data) - 1\n",
      "        print \"Continuing from position {}\".format(start_from_index)\n",
      "else:\n",
      "    with open(templates_path,\"wb\") as f:\n",
      "        writer = csv.writer(f, delimiter=',')\n",
      "        writer.writerow(columns)\n",
      "        print \"Start from position {}\".format(start_from_index)\n",
      "        \n",
      "i = start_from_index # overall training counter\n",
      "y = 0 # granular status counter\n",
      "limit = training_length # limit amount of enrolling images (set to 0 to enroll all)\n",
      "        \n",
      "print \"Enrolling {} images...\".format(training_length)\n",
      "print \"First entry: {}\".format(training_sigs[0].attributes['file-name'].value)\n",
      "\n",
      "with open(templates_path, 'a') as f:\n",
      "    writer = csv.writer(f, delimiter=',')\n",
      "\n",
      "    for s in training_sigs[start_from_index:]:\n",
      "        name = s.attributes['file-name'].value.split('/')[0]\n",
      "        fname = image_dir + s.attributes['file-name'].value\n",
      "        \n",
      "        #print \"[{}%] Enrolling {}\".format(i/limit * 100, fname)\n",
      "        \n",
      "        #rpath = os.path.join(data_dir,fname)\n",
      "        \n",
      "        row = [[i, name, fname, getRep(fname, False).tolist()]]\n",
      "        writer.writerows(row)\n",
      "        \n",
      "        i = i + 1\n",
      "        y = y + 1\n",
      "        \n",
      "        if y > 100:\n",
      "            print \"[{0:.2f}%] Enrolled 100 images\".format(i/limit * 100)\n",
      "            y = 0\n",
      "            \n",
      "    print \"Done\""
     ],
     "language": "python",
     "metadata": {},
     "outputs": [
      {
       "output_type": "stream",
       "stream": "stdout",
       "text": [
        "Start from position 0\n",
        "Enrolling 6000 images...\n",
        "First entry: Abel_Pacheco/Abel_Pacheco_0004.jpg\n"
       ]
      },
      {
       "ename": "NameError",
       "evalue": "name 'getRep' is not defined",
       "output_type": "pyerr",
       "traceback": [
        "\u001b[0;31m---------------------------------------------------------------------------\u001b[0m\n\u001b[0;31mNameError\u001b[0m                                 Traceback (most recent call last)",
        "\u001b[0;32m<ipython-input-14-54010467654d>\u001b[0m in \u001b[0;36m<module>\u001b[0;34m()\u001b[0m\n\u001b[1;32m     44\u001b[0m         \u001b[0;31m#rpath = os.path.join(data_dir,fname)\u001b[0m\u001b[0;34m\u001b[0m\u001b[0;34m\u001b[0m\u001b[0m\n\u001b[1;32m     45\u001b[0m \u001b[0;34m\u001b[0m\u001b[0m\n\u001b[0;32m---> 46\u001b[0;31m         \u001b[0mrow\u001b[0m \u001b[0;34m=\u001b[0m \u001b[0;34m[\u001b[0m\u001b[0;34m[\u001b[0m\u001b[0mi\u001b[0m\u001b[0;34m,\u001b[0m \u001b[0mname\u001b[0m\u001b[0;34m,\u001b[0m \u001b[0mfname\u001b[0m\u001b[0;34m,\u001b[0m \u001b[0mgetRep\u001b[0m\u001b[0;34m(\u001b[0m\u001b[0mfname\u001b[0m\u001b[0;34m,\u001b[0m \u001b[0mFalse\u001b[0m\u001b[0;34m)\u001b[0m\u001b[0;34m.\u001b[0m\u001b[0mtolist\u001b[0m\u001b[0;34m(\u001b[0m\u001b[0;34m)\u001b[0m\u001b[0;34m]\u001b[0m\u001b[0;34m]\u001b[0m\u001b[0;34m\u001b[0m\u001b[0m\n\u001b[0m\u001b[1;32m     47\u001b[0m         \u001b[0mwriter\u001b[0m\u001b[0;34m.\u001b[0m\u001b[0mwriterows\u001b[0m\u001b[0;34m(\u001b[0m\u001b[0mrow\u001b[0m\u001b[0;34m)\u001b[0m\u001b[0;34m\u001b[0m\u001b[0m\n\u001b[1;32m     48\u001b[0m \u001b[0;34m\u001b[0m\u001b[0m\n",
        "\u001b[0;31mNameError\u001b[0m: name 'getRep' is not defined"
       ]
      }
     ],
     "prompt_number": 14
    },
    {
     "cell_type": "code",
     "collapsed": false,
     "input": [
      "data_dir = '../../../openbr/data/LFW/'\n",
      "image_dir = os.path.join(data_dir, 'img/')\n",
      "test_ref_path = os.path.join(data_dir,'sigset/test_image_restricted_query.xml')\n",
      "test_ref = minidom.parse(test_ref_path)\n",
      "test_sigs = test_ref.getElementsByTagName('presentation')\n",
      "test_length = len(test_sigs)\n",
      "print \"Testing images {}\".format(test_length)\n",
      "\n",
      "print \"Loading template database...\"\n",
      "templates = pd.DataFrame.from_csv('templates2.csv')\n",
      "\n",
      "print \"Comparing with enrolled templates...\"\n",
      "def calc_dist(row, *args):\n",
      "    a =  np.asarray(ast.literal_eval(row['Rep']))\n",
      "    if a.size > 0:\n",
      "        d = a - args[0] # probe_rep\n",
      "        return np.dot(d, d) # distance\n",
      "    return -1\n",
      "\n",
      "columns = ['', 'Probe_Name', 'Probe_FileName', 'Best_Match', 'Best_Match_FileName', 'Distance', 'Correct'] # columns for templates_db\n",
      "\n",
      "start_from_index = 0 # index the enrollment should start from\n",
      "continue_from_last = False # set true to continue enrollment from last index in csv file (template path)\n",
      "i = 0 # overall training counter\n",
      "result_path = \"result2.csv\"\n",
      "\n",
      "if continue_from_last:\n",
      "    with open(result_path,\"r\") as f:\n",
      "        print \"Continuing...\"\n",
      "        reader = csv.reader(f,delimiter = \",\")\n",
      "        data = list(reader)\n",
      "        start_from_index = len(data) - 1\n",
      "        print \"Continuing from position {}\".format(start_from_index)\n",
      "else:\n",
      "    with open(result_path,\"wb\") as f:\n",
      "        print \"Starting from scratch\"\n",
      "        writer = csv.writer(f, delimiter=',')\n",
      "        writer.writerow(columns)\n",
      "        print \"Start from position {}\".format(start_from_index)\n",
      "\n",
      "y = 0\n",
      "i = start_from_index\n",
      "with open(result_path, 'a') as f:\n",
      "    writer = csv.writer(f, delimiter=',')\n",
      "    \n",
      "    for s in test_sigs[start_from_index:]:        \n",
      "        name = s.attributes['file-name'].value.split('/')[0]\n",
      "        fname = image_dir + s.attributes['file-name'].value\n",
      "        #print fname\n",
      "\n",
      "        # Calculate probe representation\n",
      "        probe_rep = getRep(fname, False)\n",
      "        if probe_rep.size == 0:\n",
      "            write_log(\"{} no representation generated\".format(fname))\n",
      "            continue\n",
      "        \n",
      "        # Calculate euclidean distance between templates and probe\n",
      "        templates['Distance'] = templates.apply(calc_dist, args = (probe_rep,), axis=1)\n",
      "        templates = templates[templates['Distance'] != -1]\n",
      "        # Sort by distance (where the lowest value is the best match)\n",
      "        best_match_data = templates.sort_values(by='Distance', ascending=True).iloc[0]\n",
      "        best_match_data.head() # Get predicted name and compare with probe name\n",
      "        probe_name = name\n",
      "        probe_filename = fname\n",
      "        best_match = best_match_data['Name']\n",
      "        best_match_filename = best_match_data['Template']\n",
      "        distance = best_match_data['Distance']\n",
      "        correct = int(probe_name == best_match)\n",
      "        row = [[i, probe_name, probe_filename, best_match, best_match_filename, distance, correct]]\n",
      "        writer.writerows(row)\n",
      "        \n",
      "        if y > 100:\n",
      "            print \"[{0:.2f}%] Probed 100 subjects\".format(i/test_length*100)\n",
      "            y = 0\n",
      "        \n",
      "        i = i + 1\n",
      "        y = y + 1\n",
      "        \n",
      "print \"Done\""
     ],
     "language": "python",
     "metadata": {},
     "outputs": [
      {
       "output_type": "stream",
       "stream": "stdout",
       "text": [
        "Testing images 6000\n",
        "Loading template database...\n",
        "Comparing with enrolled templates..."
       ]
      },
      {
       "output_type": "stream",
       "stream": "stdout",
       "text": [
        "\n",
        "Starting from scratch\n",
        "Start from position 0\n",
        "[1.68%] Probed 100 subjects"
       ]
      },
      {
       "output_type": "stream",
       "stream": "stdout",
       "text": [
        "\n",
        "[3.37%] Probed 100 subjects"
       ]
      },
      {
       "output_type": "stream",
       "stream": "stdout",
       "text": [
        "\n",
        "[5.05%] Probed 100 subjects"
       ]
      },
      {
       "output_type": "stream",
       "stream": "stdout",
       "text": [
        "\n",
        "[6.73%] Probed 100 subjects"
       ]
      },
      {
       "output_type": "stream",
       "stream": "stdout",
       "text": [
        "\n",
        "[8.42%] Probed 100 subjects"
       ]
      },
      {
       "output_type": "stream",
       "stream": "stdout",
       "text": [
        "\n",
        "[10.10%] Probed 100 subjects"
       ]
      },
      {
       "output_type": "stream",
       "stream": "stdout",
       "text": [
        "\n",
        "[11.78%] Probed 100 subjects"
       ]
      },
      {
       "output_type": "stream",
       "stream": "stdout",
       "text": [
        "\n",
        "[13.47%] Probed 100 subjects"
       ]
      },
      {
       "output_type": "stream",
       "stream": "stdout",
       "text": [
        "\n",
        "[15.15%] Probed 100 subjects"
       ]
      },
      {
       "output_type": "stream",
       "stream": "stdout",
       "text": [
        "\n",
        "[2016-06-16 08:49:39] ../../../openbr/data/LFW/img/Damarius_Bilbo/Damarius_Bilbo_0001.jpg no representation generated"
       ]
      },
      {
       "output_type": "stream",
       "stream": "stdout",
       "text": [
        "\n",
        "[16.83%] Probed 100 subjects"
       ]
      },
      {
       "output_type": "stream",
       "stream": "stdout",
       "text": [
        "\n",
        "[18.52%] Probed 100 subjects"
       ]
      },
      {
       "output_type": "stream",
       "stream": "stdout",
       "text": [
        "\n",
        "[2016-06-16 08:56:02] ../../../openbr/data/LFW/img/John_Burkett/John_Burkett_0001.jpg no representation generated"
       ]
      },
      {
       "output_type": "stream",
       "stream": "stdout",
       "text": [
        "\n",
        "[20.20%] Probed 100 subjects"
       ]
      },
      {
       "output_type": "stream",
       "stream": "stdout",
       "text": [
        "\n",
        "[2016-06-16 09:04:31] ../../../openbr/data/LFW/img/George_HW_Bush/George_HW_Bush_0002.jpg no representation generated"
       ]
      },
      {
       "output_type": "stream",
       "stream": "stdout",
       "text": [
        "\n",
        "[21.88%] Probed 100 subjects"
       ]
      },
      {
       "output_type": "stream",
       "stream": "stdout",
       "text": [
        "\n",
        "[23.57%] Probed 100 subjects"
       ]
      },
      {
       "output_type": "stream",
       "stream": "stdout",
       "text": [
        "\n",
        "[25.25%] Probed 100 subjects"
       ]
      },
      {
       "output_type": "stream",
       "stream": "stdout",
       "text": [
        "\n",
        "[2016-06-16 09:21:20] ../../../openbr/data/LFW/img/Chan_Ho_Park/Chan_Ho_Park_0001.jpg no representation generated"
       ]
      },
      {
       "output_type": "stream",
       "stream": "stdout",
       "text": [
        "\n",
        "[26.93%] Probed 100 subjects"
       ]
      },
      {
       "output_type": "stream",
       "stream": "stdout",
       "text": [
        "\n",
        "[2016-06-16 09:27:24] ../../../openbr/data/LFW/img/Jane_Fonda/Jane_Fonda_0002.jpg no representation generated"
       ]
      },
      {
       "output_type": "stream",
       "stream": "stdout",
       "text": [
        "\n",
        "[2016-06-16 09:28:25] ../../../openbr/data/LFW/img/John_Thune/John_Thune_0001.jpg no representation generated"
       ]
      },
      {
       "output_type": "stream",
       "stream": "stdout",
       "text": [
        "\n",
        "[28.62%] Probed 100 subjects"
       ]
      },
      {
       "output_type": "stream",
       "stream": "stdout",
       "text": [
        "\n",
        "[2016-06-16 09:29:14] ../../../openbr/data/LFW/img/Katie_Smith/Katie_Smith_0001.jpg no representation generated"
       ]
      },
      {
       "output_type": "stream",
       "stream": "stdout",
       "text": [
        "\n",
        "[30.30%] Probed 100 subjects"
       ]
      },
      {
       "output_type": "stream",
       "stream": "stdout",
       "text": [
        "\n",
        "[31.98%] Probed 100 subjects"
       ]
      },
      {
       "output_type": "stream",
       "stream": "stdout",
       "text": [
        "\n",
        "[33.67%] Probed 100 subjects"
       ]
      },
      {
       "output_type": "stream",
       "stream": "stdout",
       "text": [
        "\n",
        "[35.35%] Probed 100 subjects"
       ]
      },
      {
       "output_type": "stream",
       "stream": "stdout",
       "text": [
        "\n",
        "[37.03%] Probed 100 subjects"
       ]
      },
      {
       "output_type": "stream",
       "stream": "stdout",
       "text": [
        "\n",
        "[38.72%] Probed 100 subjects"
       ]
      },
      {
       "output_type": "stream",
       "stream": "stdout",
       "text": [
        "\n",
        "[2016-06-16 10:03:05] ../../../openbr/data/LFW/img/Lynne_Thigpen/Lynne_Thigpen_0001.jpg no representation generated"
       ]
      },
      {
       "output_type": "stream",
       "stream": "stdout",
       "text": [
        "\n",
        "[40.40%] Probed 100 subjects"
       ]
      },
      {
       "output_type": "stream",
       "stream": "stdout",
       "text": [
        "\n",
        "[2016-06-16 10:10:50] ../../../openbr/data/LFW/img/Elisabeth_Schumacher/Elisabeth_Schumacher_0001.jpg no representation generated"
       ]
      },
      {
       "output_type": "stream",
       "stream": "stdout",
       "text": [
        "\n",
        "[42.08%] Probed 100 subjects"
       ]
      },
      {
       "output_type": "stream",
       "stream": "stdout",
       "text": [
        "\n",
        "[43.77%] Probed 100 subjects"
       ]
      },
      {
       "output_type": "stream",
       "stream": "stdout",
       "text": [
        "\n",
        "[45.45%] Probed 100 subjects"
       ]
      },
      {
       "output_type": "stream",
       "stream": "stdout",
       "text": [
        "\n",
        "[47.13%] Probed 100 subjects"
       ]
      },
      {
       "output_type": "stream",
       "stream": "stdout",
       "text": [
        "\n",
        "[2016-06-16 10:29:48] ../../../openbr/data/LFW/img/Ed_Mekertichian/Ed_Mekertichian_0001.jpg no representation generated"
       ]
      },
      {
       "output_type": "stream",
       "stream": "stdout",
       "text": [
        "\n",
        "[2016-06-16 10:34:08] ../../../openbr/data/LFW/img/Jerry_Rice/Jerry_Rice_0001.jpg no representation generated"
       ]
      },
      {
       "output_type": "stream",
       "stream": "stdout",
       "text": [
        "\n",
        "[48.82%] Probed 100 subjects"
       ]
      },
      {
       "output_type": "stream",
       "stream": "stdout",
       "text": [
        "\n",
        "[50.50%] Probed 100 subjects"
       ]
      },
      {
       "output_type": "stream",
       "stream": "stdout",
       "text": [
        "\n",
        "[52.18%] Probed 100 subjects"
       ]
      },
      {
       "output_type": "stream",
       "stream": "stdout",
       "text": [
        "\n",
        "[53.87%] Probed 100 subjects"
       ]
      },
      {
       "output_type": "stream",
       "stream": "stdout",
       "text": [
        "\n",
        "[55.55%] Probed 100 subjects"
       ]
      },
      {
       "output_type": "stream",
       "stream": "stdout",
       "text": [
        "\n",
        "[57.23%] Probed 100 subjects"
       ]
      },
      {
       "output_type": "stream",
       "stream": "stdout",
       "text": [
        "\n",
        "[58.92%] Probed 100 subjects"
       ]
      },
      {
       "output_type": "stream",
       "stream": "stdout",
       "text": [
        "\n",
        "[60.60%] Probed 100 subjects"
       ]
      },
      {
       "output_type": "stream",
       "stream": "stdout",
       "text": [
        "\n",
        "[62.28%] Probed 100 subjects"
       ]
      },
      {
       "output_type": "stream",
       "stream": "stdout",
       "text": [
        "\n",
        "[2016-06-16 11:19:54] ../../../openbr/data/LFW/img/Luis_Horna/Luis_Horna_0002.jpg no representation generated"
       ]
      },
      {
       "output_type": "stream",
       "stream": "stdout",
       "text": [
        "\n",
        "[63.97%] Probed 100 subjects"
       ]
      },
      {
       "output_type": "stream",
       "stream": "stdout",
       "text": [
        "\n",
        "[65.65%] Probed 100 subjects"
       ]
      },
      {
       "output_type": "stream",
       "stream": "stdout",
       "text": [
        "\n",
        "[2016-06-16 11:33:11] ../../../openbr/data/LFW/img/Don_Hewitt/Don_Hewitt_0001.jpg no representation generated"
       ]
      },
      {
       "output_type": "stream",
       "stream": "stdout",
       "text": [
        "\n",
        "[67.33%] Probed 100 subjects"
       ]
      },
      {
       "output_type": "stream",
       "stream": "stdout",
       "text": [
        "\n",
        "[2016-06-16 11:36:28] ../../../openbr/data/LFW/img/Harvey_Wachsman/Harvey_Wachsman_0001.jpg no representation generated"
       ]
      },
      {
       "output_type": "stream",
       "stream": "stdout",
       "text": [
        "\n",
        "[69.02%] Probed 100 subjects"
       ]
      },
      {
       "output_type": "stream",
       "stream": "stdout",
       "text": [
        "\n",
        "[2016-06-16 11:45:51] ../../../openbr/data/LFW/img/Colin_Montgomerie/Colin_Montgomerie_0004.jpg no representation generated"
       ]
      },
      {
       "output_type": "stream",
       "stream": "stdout",
       "text": [
        "\n",
        "[70.70%] Probed 100 subjects"
       ]
      },
      {
       "output_type": "stream",
       "stream": "stdout",
       "text": [
        "\n",
        "[2016-06-16 11:47:09] ../../../openbr/data/LFW/img/Franz_Muentefering/Franz_Muentefering_0003.jpg no representation generated"
       ]
      },
      {
       "output_type": "stream",
       "stream": "stdout",
       "text": [
        "\n",
        "[72.38%] Probed 100 subjects"
       ]
      },
      {
       "output_type": "stream",
       "stream": "stdout",
       "text": [
        "\n",
        "[2016-06-16 11:54:25] ../../../openbr/data/LFW/img/Muammar_Gaddafi/Muammar_Gaddafi_0001.jpg no representation generated"
       ]
      },
      {
       "output_type": "stream",
       "stream": "stdout",
       "text": [
        "\n",
        "[74.07%] Probed 100 subjects"
       ]
      },
      {
       "output_type": "stream",
       "stream": "stdout",
       "text": [
        "\n",
        "[2016-06-16 12:02:36] ../../../openbr/data/LFW/img/Billy_Andrade/Billy_Andrade_0001.jpg no representation generated"
       ]
      },
      {
       "output_type": "stream",
       "stream": "stdout",
       "text": [
        "\n",
        "[75.75%] Probed 100 subjects"
       ]
      },
      {
       "output_type": "stream",
       "stream": "stdout",
       "text": [
        "\n",
        "[77.43%] Probed 100 subjects"
       ]
      },
      {
       "output_type": "stream",
       "stream": "stdout",
       "text": [
        "\n",
        "[79.12%] Probed 100 subjects"
       ]
      },
      {
       "output_type": "stream",
       "stream": "stdout",
       "text": [
        "\n",
        "[80.80%] Probed 100 subjects"
       ]
      },
      {
       "output_type": "stream",
       "stream": "stdout",
       "text": [
        "\n",
        "[82.48%] Probed 100 subjects"
       ]
      },
      {
       "output_type": "stream",
       "stream": "stdout",
       "text": [
        "\n",
        "[2016-06-16 12:27:14] ../../../openbr/data/LFW/img/Nabil_Shaath/Nabil_Shaath_0002.jpg no representation generated"
       ]
      },
      {
       "output_type": "stream",
       "stream": "stdout",
       "text": [
        "\n",
        "[84.17%] Probed 100 subjects"
       ]
      },
      {
       "output_type": "stream",
       "stream": "stdout",
       "text": [
        "\n",
        "[85.85%] Probed 100 subjects"
       ]
      },
      {
       "output_type": "stream",
       "stream": "stdout",
       "text": [
        "\n",
        "[87.53%] Probed 100 subjects"
       ]
      },
      {
       "output_type": "stream",
       "stream": "stdout",
       "text": [
        "\n",
        "[89.22%] Probed 100 subjects"
       ]
      },
      {
       "output_type": "stream",
       "stream": "stdout",
       "text": [
        "\n",
        "[90.90%] Probed 100 subjects"
       ]
      },
      {
       "output_type": "stream",
       "stream": "stdout",
       "text": [
        "\n",
        "[92.58%] Probed 100 subjects"
       ]
      },
      {
       "output_type": "stream",
       "stream": "stdout",
       "text": [
        "\n",
        "[94.27%] Probed 100 subjects"
       ]
      },
      {
       "output_type": "stream",
       "stream": "stdout",
       "text": [
        "\n",
        "[2016-06-16 13:08:51] ../../../openbr/data/LFW/img/Bill_OReilly/Bill_OReilly_0001.jpg no representation generated"
       ]
      },
      {
       "output_type": "stream",
       "stream": "stdout",
       "text": [
        "\n",
        "[95.95%] Probed 100 subjects"
       ]
      },
      {
       "output_type": "stream",
       "stream": "stdout",
       "text": [
        "\n",
        "[2016-06-16 13:10:17] ../../../openbr/data/LFW/img/Claudette_Robinson/Claudette_Robinson_0001.jpg no representation generated"
       ]
      },
      {
       "output_type": "stream",
       "stream": "stdout",
       "text": [
        "\n",
        "[97.63%] Probed 100 subjects"
       ]
      },
      {
       "output_type": "stream",
       "stream": "stdout",
       "text": [
        "\n",
        "[99.32%] Probed 100 subjects"
       ]
      },
      {
       "output_type": "stream",
       "stream": "stdout",
       "text": [
        "\n",
        "Done"
       ]
      },
      {
       "output_type": "stream",
       "stream": "stdout",
       "text": [
        "\n"
       ]
      }
     ],
     "prompt_number": 17
    },
    {
     "cell_type": "code",
     "collapsed": false,
     "input": [
      "templates = pd.DataFrame.from_csv('result2.csv')\n",
      "templates.head()"
     ],
     "language": "python",
     "metadata": {},
     "outputs": [
      {
       "html": [
        "<div style=\"max-width:1500px;overflow:auto;\">\n",
        "<table border=\"1\" class=\"dataframe\">\n",
        "  <thead>\n",
        "    <tr style=\"text-align: right;\">\n",
        "      <th></th>\n",
        "      <th>Probe_Name</th>\n",
        "      <th>Probe_FileName</th>\n",
        "      <th>Best_Match</th>\n",
        "      <th>Best_Match_FileName</th>\n",
        "      <th>Distance</th>\n",
        "      <th>Correct</th>\n",
        "    </tr>\n",
        "  </thead>\n",
        "  <tbody>\n",
        "    <tr>\n",
        "      <th>0</th>\n",
        "      <td>Abel_Pacheco</td>\n",
        "      <td>../../../openbr/data/LFW/img/Abel_Pacheco/Abel...</td>\n",
        "      <td>Paul_Sarbanes</td>\n",
        "      <td>../../../openbr/data/LFW/img/Paul_Sarbanes/Pau...</td>\n",
        "      <td>0.409531</td>\n",
        "      <td>0</td>\n",
        "    </tr>\n",
        "    <tr>\n",
        "      <th>1</th>\n",
        "      <td>Akhmed_Zakayev</td>\n",
        "      <td>../../../openbr/data/LFW/img/Akhmed_Zakayev/Ak...</td>\n",
        "      <td>Akhmed_Zakayev</td>\n",
        "      <td>../../../openbr/data/LFW/img/Akhmed_Zakayev/Ak...</td>\n",
        "      <td>0.143534</td>\n",
        "      <td>1</td>\n",
        "    </tr>\n",
        "    <tr>\n",
        "      <th>2</th>\n",
        "      <td>Akhmed_Zakayev</td>\n",
        "      <td>../../../openbr/data/LFW/img/Akhmed_Zakayev/Ak...</td>\n",
        "      <td>Akhmed_Zakayev</td>\n",
        "      <td>../../../openbr/data/LFW/img/Akhmed_Zakayev/Ak...</td>\n",
        "      <td>0.304535</td>\n",
        "      <td>1</td>\n",
        "    </tr>\n",
        "    <tr>\n",
        "      <th>3</th>\n",
        "      <td>Amber_Tamblyn</td>\n",
        "      <td>../../../openbr/data/LFW/img/Amber_Tamblyn/Amb...</td>\n",
        "      <td>Priscilla_Owen</td>\n",
        "      <td>../../../openbr/data/LFW/img/Priscilla_Owen/Pr...</td>\n",
        "      <td>0.551999</td>\n",
        "      <td>0</td>\n",
        "    </tr>\n",
        "    <tr>\n",
        "      <th>4</th>\n",
        "      <td>Anders_Fogh_Rasmussen</td>\n",
        "      <td>../../../openbr/data/LFW/img/Anders_Fogh_Rasmu...</td>\n",
        "      <td>Anders_Fogh_Rasmussen</td>\n",
        "      <td>../../../openbr/data/LFW/img/Anders_Fogh_Rasmu...</td>\n",
        "      <td>0.319858</td>\n",
        "      <td>1</td>\n",
        "    </tr>\n",
        "  </tbody>\n",
        "</table>\n",
        "</div>"
       ],
       "metadata": {},
       "output_type": "pyout",
       "prompt_number": 19,
       "text": [
        "              Probe_Name                                     Probe_FileName  \\\n",
        "0           Abel_Pacheco  ../../../openbr/data/LFW/img/Abel_Pacheco/Abel...   \n",
        "1         Akhmed_Zakayev  ../../../openbr/data/LFW/img/Akhmed_Zakayev/Ak...   \n",
        "2         Akhmed_Zakayev  ../../../openbr/data/LFW/img/Akhmed_Zakayev/Ak...   \n",
        "3          Amber_Tamblyn  ../../../openbr/data/LFW/img/Amber_Tamblyn/Amb...   \n",
        "4  Anders_Fogh_Rasmussen  ../../../openbr/data/LFW/img/Anders_Fogh_Rasmu...   \n",
        "\n",
        "              Best_Match                                Best_Match_FileName  \\\n",
        "0          Paul_Sarbanes  ../../../openbr/data/LFW/img/Paul_Sarbanes/Pau...   \n",
        "1         Akhmed_Zakayev  ../../../openbr/data/LFW/img/Akhmed_Zakayev/Ak...   \n",
        "2         Akhmed_Zakayev  ../../../openbr/data/LFW/img/Akhmed_Zakayev/Ak...   \n",
        "3         Priscilla_Owen  ../../../openbr/data/LFW/img/Priscilla_Owen/Pr...   \n",
        "4  Anders_Fogh_Rasmussen  ../../../openbr/data/LFW/img/Anders_Fogh_Rasmu...   \n",
        "\n",
        "   Distance  Correct  \n",
        "0  0.409531        0  \n",
        "1  0.143534        1  \n",
        "2  0.304535        1  \n",
        "3  0.551999        0  \n",
        "4  0.319858        1  "
       ]
      }
     ],
     "prompt_number": 19
    },
    {
     "cell_type": "code",
     "collapsed": false,
     "input": [
      "size = len(templates)\n",
      "correct = templates['Correct'].value_counts()\n",
      "true_positive = correct.iloc[0]\n",
      "true_negative = correct.iloc[1]\n",
      "print \"TP: {}, TN: {} out of {}\".format(true_positive, true_negative, size)"
     ],
     "language": "python",
     "metadata": {},
     "outputs": [
      {
       "output_type": "stream",
       "stream": "stdout",
       "text": [
        "TP: 3005, TN: 2974 out of 5979\n"
       ]
      }
     ],
     "prompt_number": 20
    },
    {
     "cell_type": "code",
     "collapsed": false,
     "input": [
      "#def get_scores(row):\n",
      "#    return (100 - (100 / 4) * row['Distance']) / 100\n",
      "templates['Score'] = templates.apply(lambda x: (100 - (100/4) * x['Distance']) / 100,axis=1)\n",
      "templates.head()"
     ],
     "language": "python",
     "metadata": {},
     "outputs": [
      {
       "html": [
        "<div style=\"max-width:1500px;overflow:auto;\">\n",
        "<table border=\"1\" class=\"dataframe\">\n",
        "  <thead>\n",
        "    <tr style=\"text-align: right;\">\n",
        "      <th></th>\n",
        "      <th>Probe_Name</th>\n",
        "      <th>Probe_FileName</th>\n",
        "      <th>Best_Match</th>\n",
        "      <th>Best_Match_FileName</th>\n",
        "      <th>Distance</th>\n",
        "      <th>Correct</th>\n",
        "      <th>Score</th>\n",
        "    </tr>\n",
        "  </thead>\n",
        "  <tbody>\n",
        "    <tr>\n",
        "      <th>0</th>\n",
        "      <td>Abel_Pacheco</td>\n",
        "      <td>../../../openbr/data/LFW/img/Abel_Pacheco/Abel...</td>\n",
        "      <td>Paul_Sarbanes</td>\n",
        "      <td>../../../openbr/data/LFW/img/Paul_Sarbanes/Pau...</td>\n",
        "      <td>0.409531</td>\n",
        "      <td>0</td>\n",
        "      <td>0.897617</td>\n",
        "    </tr>\n",
        "    <tr>\n",
        "      <th>1</th>\n",
        "      <td>Akhmed_Zakayev</td>\n",
        "      <td>../../../openbr/data/LFW/img/Akhmed_Zakayev/Ak...</td>\n",
        "      <td>Akhmed_Zakayev</td>\n",
        "      <td>../../../openbr/data/LFW/img/Akhmed_Zakayev/Ak...</td>\n",
        "      <td>0.143534</td>\n",
        "      <td>1</td>\n",
        "      <td>0.964116</td>\n",
        "    </tr>\n",
        "    <tr>\n",
        "      <th>2</th>\n",
        "      <td>Akhmed_Zakayev</td>\n",
        "      <td>../../../openbr/data/LFW/img/Akhmed_Zakayev/Ak...</td>\n",
        "      <td>Akhmed_Zakayev</td>\n",
        "      <td>../../../openbr/data/LFW/img/Akhmed_Zakayev/Ak...</td>\n",
        "      <td>0.304535</td>\n",
        "      <td>1</td>\n",
        "      <td>0.923866</td>\n",
        "    </tr>\n",
        "    <tr>\n",
        "      <th>3</th>\n",
        "      <td>Amber_Tamblyn</td>\n",
        "      <td>../../../openbr/data/LFW/img/Amber_Tamblyn/Amb...</td>\n",
        "      <td>Priscilla_Owen</td>\n",
        "      <td>../../../openbr/data/LFW/img/Priscilla_Owen/Pr...</td>\n",
        "      <td>0.551999</td>\n",
        "      <td>0</td>\n",
        "      <td>0.862000</td>\n",
        "    </tr>\n",
        "    <tr>\n",
        "      <th>4</th>\n",
        "      <td>Anders_Fogh_Rasmussen</td>\n",
        "      <td>../../../openbr/data/LFW/img/Anders_Fogh_Rasmu...</td>\n",
        "      <td>Anders_Fogh_Rasmussen</td>\n",
        "      <td>../../../openbr/data/LFW/img/Anders_Fogh_Rasmu...</td>\n",
        "      <td>0.319858</td>\n",
        "      <td>1</td>\n",
        "      <td>0.920036</td>\n",
        "    </tr>\n",
        "  </tbody>\n",
        "</table>\n",
        "</div>"
       ],
       "metadata": {},
       "output_type": "pyout",
       "prompt_number": 21,
       "text": [
        "              Probe_Name                                     Probe_FileName  \\\n",
        "0           Abel_Pacheco  ../../../openbr/data/LFW/img/Abel_Pacheco/Abel...   \n",
        "1         Akhmed_Zakayev  ../../../openbr/data/LFW/img/Akhmed_Zakayev/Ak...   \n",
        "2         Akhmed_Zakayev  ../../../openbr/data/LFW/img/Akhmed_Zakayev/Ak...   \n",
        "3          Amber_Tamblyn  ../../../openbr/data/LFW/img/Amber_Tamblyn/Amb...   \n",
        "4  Anders_Fogh_Rasmussen  ../../../openbr/data/LFW/img/Anders_Fogh_Rasmu...   \n",
        "\n",
        "              Best_Match                                Best_Match_FileName  \\\n",
        "0          Paul_Sarbanes  ../../../openbr/data/LFW/img/Paul_Sarbanes/Pau...   \n",
        "1         Akhmed_Zakayev  ../../../openbr/data/LFW/img/Akhmed_Zakayev/Ak...   \n",
        "2         Akhmed_Zakayev  ../../../openbr/data/LFW/img/Akhmed_Zakayev/Ak...   \n",
        "3         Priscilla_Owen  ../../../openbr/data/LFW/img/Priscilla_Owen/Pr...   \n",
        "4  Anders_Fogh_Rasmussen  ../../../openbr/data/LFW/img/Anders_Fogh_Rasmu...   \n",
        "\n",
        "   Distance  Correct     Score  \n",
        "0  0.409531        0  0.897617  \n",
        "1  0.143534        1  0.964116  \n",
        "2  0.304535        1  0.923866  \n",
        "3  0.551999        0  0.862000  \n",
        "4  0.319858        1  0.920036  "
       ]
      }
     ],
     "prompt_number": 21
    },
    {
     "cell_type": "code",
     "collapsed": false,
     "input": [
      "from sklearn.metrics import roc_curve, auc\n",
      "import matplotlib.pyplot as plt\n",
      "import random\n",
      "\n",
      "%matplotlib inline\n",
      "\n",
      "# EXAMPLES\n",
      "# No errors by classifier\n",
      "#actual = [1,1,1,0,0,0]\n",
      "#predictions = [0.9,0.9,0.9,0.1,0.1,0.1]\n",
      "\n",
      "# 1 error by classifier\n",
      "#actual = [1,1,1,0,0,0]\n",
      "#predictions = [0.9,0.9,0.1,0.1,0.1,0.1]\n",
      "\n",
      "actual = templates[templates['Correct'] != pd.isnull]['Correct'].values.tolist()\n",
      "predictions = templates['Score'].values.tolist()\n",
      "\n",
      "false_positive_rate, true_positive_rate, thresholds = roc_curve(actual, predictions)\n",
      "roc_auc = auc(false_positive_rate, true_positive_rate)\n",
      "\n",
      "plt.title('Receiver Operating Characteristic')\n",
      "plt.plot(false_positive_rate, true_positive_rate, 'b', label='OpenFace LFW AUC = %0.2f'% roc_auc)\n",
      "plt.legend(loc='lower right')\n",
      "plt.plot([0,1],[0,1],'r--')\n",
      "plt.xlim([-0.1,1.1])\n",
      "plt.ylim([-0.1,1.1])\n",
      "plt.ylabel('True Positive Rate')\n",
      "plt.xlabel('False Positive Rate')"
     ],
     "language": "python",
     "metadata": {},
     "outputs": [
      {
       "metadata": {},
       "output_type": "pyout",
       "prompt_number": 33,
       "text": [
        "<matplotlib.text.Text at 0x7fd5f0721d90>"
       ]
      },
      {
       "metadata": {},
       "output_type": "display_data",
       "png": "[encoded data removed]",
       "text": [
        "<matplotlib.figure.Figure at 0x7fd5f07e7050>"
       ]
      }
     ],
     "prompt_number": 33
    },
    {
     "cell_type": "code",
     "collapsed": false,
     "input": [
      "templates[templates['Correct'] != pd.isnull]['Correct'].values.tolist()"
     ],
     "language": "python",
     "metadata": {},
     "outputs": []
    },
    {
     "cell_type": "code",
     "collapsed": false,
     "input": [],
     "language": "python",
     "metadata": {},
     "outputs": []
    }
   ],
   "metadata": {}
  }
 ]
}
{
 "cells": [
  {
   "cell_type": "code",
   "execution_count": 2,
   "metadata": {
    "collapsed": true
   },
   "outputs": [],
   "source": [
    "import os\n",
    "from subprocess import call"
   ]
  },
  {
   "cell_type": "code",
   "execution_count": 7,
   "metadata": {
    "collapsed": false
   },
   "outputs": [],
   "source": [
    "def trainBr(enrollTargets, modelDestination):\n",
    "    # br -algorithm FaceRecognition -enrollAll -enroll ../../openbr/data/MEDS/img 'meds.gal'\n",
    "    os.system(\"br -algorithm FaceRecognition -enrollAll -enroll \" + enrollTargets + \" \" + \"\\'\" + modelDestination + \".gal\\'\")\n",
    "    \n",
    "\n",
    "## br -algorithm FaceRecognition -compare meds.gal ../../openbr/data/MEDS/img/S001-01-t10_01.jpg match_scores.csv"
   ]
  },
  {
   "cell_type": "code",
   "execution_count": 10,
   "metadata": {
    "collapsed": false
   },
   "outputs": [],
   "source": [
    "def testFace(prope, model, matchDest):\n",
    "    # br -algorithm FaceRecognition -compare meds.gal ../../openbr/data/MEDS/img/S001-01-t10_01.jpg match_scores.csv\n",
    "    r = os.system(\"br -algorithm FaceRecognition -compare \" + model + \".gal \" + prope + \" \" + matchDest)\n",
    "    print r"
   ]
  },
  {
   "cell_type": "code",
   "execution_count": 13,
   "metadata": {
    "collapsed": false
   },
   "outputs": [],
   "source": [
    "trainBr('/home/casper/repos/openbr/data/MEDS/img', 'te')"
   ]
  },
  {
   "cell_type": "code",
   "execution_count": 14,
   "metadata": {
    "collapsed": false
   },
   "outputs": [
    {
     "name": "stdout",
     "output_type": "stream",
     "text": [
      "0\n"
     ]
    }
   ],
   "source": [
    "testFace('../../openbr/data/MEDS/img/S001-01-t10_01.jpg', 'te', 'match_score.csv')"
   ]
  },
  {
   "cell_type": "code",
   "execution_count": null,
   "metadata": {
    "collapsed": true
   },
   "outputs": [],
   "source": []
  }
 ],
 "metadata": {
  "kernelspec": {
   "display_name": "Python 2",
   "language": "python",
   "name": "python2"
  },
  "language_info": {
   "codemirror_mode": {
    "name": "ipython",
    "version": 2
   },
   "file_extension": ".py",
   "mimetype": "text/x-python",
   "name": "python",
   "nbconvert_exporter": "python",
   "pygments_lexer": "ipython2",
   "version": "2.7.11+"
  }
 },
 "nbformat": 4,
 "nbformat_minor": 0
}

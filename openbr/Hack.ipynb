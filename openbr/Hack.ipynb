{
 "cells": [
  {
   "cell_type": "code",
   "execution_count": 61,
   "metadata": {
    "collapsed": false
   },
   "outputs": [],
   "source": [
    "from brpy import init_brpy\n",
    "import os\n",
    "import pandas\n",
    "\n",
    "\n",
    "pictureDest = '/home/casper/repos/openbr/data/MEDS/sigset/MEDS_frontal_query.xml'\n",
    "trainedGallery = 'gallery.gal'\n",
    "\n"
   ]
  },
  {
   "cell_type": "code",
   "execution_count": 62,
   "metadata": {
    "collapsed": false
   },
   "outputs": [
    {
     "data": {
      "text/plain": [
       "0"
      ]
     },
     "execution_count": 62,
     "metadata": {},
     "output_type": "execute_result"
    }
   ],
   "source": [
    "\n",
    "br = init_brpy()\n",
    "br.br_initialize_default()\n",
    "br.br_set_property('algorithm', 'FaceRecognition')\n",
    "br.br_set_property('enrollAll', 'true')\n"
   ]
  },
  {
   "cell_type": "code",
   "execution_count": 63,
   "metadata": {
    "collapsed": true
   },
   "outputs": [],
   "source": [
    "def teardown(br):\n",
    "    br.br_finalize()\n",
    "    del br"
   ]
  },
  {
   "cell_type": "code",
   "execution_count": 92,
   "metadata": {
    "collapsed": false
   },
   "outputs": [
    {
     "name": "stdout",
     "output_type": "stream",
     "text": [
      "Beginnig to enrole /home/casper/repos/openbr/data/MEDS/sigset/MEDS_frontal_query.xml\n"
     ]
    },
    {
     "data": {
      "text/plain": [
       "0"
      ]
     },
     "execution_count": 92,
     "metadata": {},
     "output_type": "execute_result"
    }
   ],
   "source": [
    "\n",
    "print \"Beginnig to enrole %s\" % pictureDest\n",
    "\n",
    "\n",
    "br.br_enroll(pictureDest, trainedGallery)\n",
    "\n",
    "\n",
    "#faceToEnroll = [picturePath]\n",
    "#if (os.path.isdir(picturePath)):\n",
    "#    faceToEnroll = os.listdir(picturePath)\n",
    "\n",
    "#queries = []\n",
    "#for f in faceToEnroll:\n",
    "#    print os.path.join(picturePath,f)\n",
    "#    aPic = open(os.path.join(picturePath,f), 'rb').read()\n",
    "#    aPicTmpl = br.br_load_img(aPic, len(aPic))\n",
    "#    query = br.br_enroll_template(aPicTmpl)\n",
    "#    print query\n",
    "#    nqueries = br.br_num_templates(query)\n",
    "#    print nqueries\n",
    "#    queries.append(query)\n",
    "#return (queries, br)\n"
   ]
  },
  {
   "cell_type": "code",
   "execution_count": 93,
   "metadata": {
    "collapsed": false
   },
   "outputs": [
    {
     "data": {
      "text/plain": [
       "0"
      ]
     },
     "execution_count": 93,
     "metadata": {},
     "output_type": "execute_result"
    }
   ],
   "source": [
    "br.br_compare(trainedGallery, '/home/casper/repos/openbr/data/MEDS/img/S051-01-t10_01.jpg', 'result/py.csv')"
   ]
  },
  {
   "cell_type": "code",
   "execution_count": 94,
   "metadata": {
    "collapsed": false,
    "scrolled": true
   },
   "outputs": [],
   "source": [
    "s = open('result/py.csv')\n",
    "lines = s.readlines()\n",
    "\n",
    "pd = pandas.DataFrame({'image': lines[0][5:].split(','), 'scores': lines[1].split(',')[1:]})\n"
   ]
  },
  {
   "cell_type": "code",
   "execution_count": 95,
   "metadata": {
    "collapsed": false,
    "scrolled": true
   },
   "outputs": [],
   "source": [
    "pd.scores = pd.scores.astype('float')"
   ]
  },
  {
   "cell_type": "code",
   "execution_count": 100,
   "metadata": {
    "collapsed": false
   },
   "outputs": [
    {
     "name": "stdout",
     "output_type": "stream",
     "text": [
      "The best match was then:\n",
      "/home/casper/repos/openbr/data/MEDS/img/S051-01-t10_01.jpg\n",
      "with a score of:\n",
      "23.9268\n"
     ]
    }
   ],
   "source": [
    "print \"The best match was then:\"\n",
    "bestMatch  = pd[pd.scores == pd.scores.max()]\n",
    "print bestMatch.image.iloc[0]\n",
    "print \"with a score of:\"\n",
    "print pd.scores.max()"
   ]
  },
  {
   "cell_type": "code",
   "execution_count": 97,
   "metadata": {
    "collapsed": false,
    "scrolled": true
   },
   "outputs": [
    {
     "data": {
      "text/html": [
       "<div>\n",
       "<table border=\"1\" class=\"dataframe\">\n",
       "  <thead>\n",
       "    <tr style=\"text-align: right;\">\n",
       "      <th></th>\n",
       "      <th>image</th>\n",
       "      <th>scores</th>\n",
       "    </tr>\n",
       "  </thead>\n",
       "  <tbody>\n",
       "    <tr>\n",
       "      <th>0</th>\n",
       "      <td>/home/casper/repos/openbr/data/MEDS/img/S001-0...</td>\n",
       "      <td>-0.036805</td>\n",
       "    </tr>\n",
       "    <tr>\n",
       "      <th>1</th>\n",
       "      <td>/home/casper/repos/openbr/data/MEDS/img/S001-0...</td>\n",
       "      <td>-0.115844</td>\n",
       "    </tr>\n",
       "    <tr>\n",
       "      <th>2</th>\n",
       "      <td>/home/casper/repos/openbr/data/MEDS/img/S001-0...</td>\n",
       "      <td>0.127785</td>\n",
       "    </tr>\n",
       "    <tr>\n",
       "      <th>3</th>\n",
       "      <td>/home/casper/repos/openbr/data/MEDS/img/S001-0...</td>\n",
       "      <td>-0.016578</td>\n",
       "    </tr>\n",
       "    <tr>\n",
       "      <th>4</th>\n",
       "      <td>/home/casper/repos/openbr/data/MEDS/img/S001-0...</td>\n",
       "      <td>-0.096056</td>\n",
       "    </tr>\n",
       "    <tr>\n",
       "      <th>5</th>\n",
       "      <td>/home/casper/repos/openbr/data/MEDS/img/S001-0...</td>\n",
       "      <td>0.253419</td>\n",
       "    </tr>\n",
       "    <tr>\n",
       "      <th>6</th>\n",
       "      <td>/home/casper/repos/openbr/data/MEDS/img/S001-0...</td>\n",
       "      <td>0.013640</td>\n",
       "    </tr>\n",
       "    <tr>\n",
       "      <th>7</th>\n",
       "      <td>/home/casper/repos/openbr/data/MEDS/img/S001-0...</td>\n",
       "      <td>-0.060900</td>\n",
       "    </tr>\n",
       "    <tr>\n",
       "      <th>8</th>\n",
       "      <td>/home/casper/repos/openbr/data/MEDS/img/S001-0...</td>\n",
       "      <td>0.030343</td>\n",
       "    </tr>\n",
       "    <tr>\n",
       "      <th>9</th>\n",
       "      <td>/home/casper/repos/openbr/data/MEDS/img/S002-0...</td>\n",
       "      <td>0.412170</td>\n",
       "    </tr>\n",
       "    <tr>\n",
       "      <th>10</th>\n",
       "      <td>/home/casper/repos/openbr/data/MEDS/img/S003-0...</td>\n",
       "      <td>0.372366</td>\n",
       "    </tr>\n",
       "    <tr>\n",
       "      <th>11</th>\n",
       "      <td>/home/casper/repos/openbr/data/MEDS/img/S004-0...</td>\n",
       "      <td>-0.402846</td>\n",
       "    </tr>\n",
       "    <tr>\n",
       "      <th>12</th>\n",
       "      <td>/home/casper/repos/openbr/data/MEDS/img/S005-0...</td>\n",
       "      <td>0.516820</td>\n",
       "    </tr>\n",
       "    <tr>\n",
       "      <th>13</th>\n",
       "      <td>/home/casper/repos/openbr/data/MEDS/img/S006-0...</td>\n",
       "      <td>-0.292692</td>\n",
       "    </tr>\n",
       "    <tr>\n",
       "      <th>14</th>\n",
       "      <td>/home/casper/repos/openbr/data/MEDS/img/S006-0...</td>\n",
       "      <td>-0.030109</td>\n",
       "    </tr>\n",
       "    <tr>\n",
       "      <th>15</th>\n",
       "      <td>/home/casper/repos/openbr/data/MEDS/img/S006-0...</td>\n",
       "      <td>0.380429</td>\n",
       "    </tr>\n",
       "    <tr>\n",
       "      <th>16</th>\n",
       "      <td>/home/casper/repos/openbr/data/MEDS/img/S007-0...</td>\n",
       "      <td>0.111889</td>\n",
       "    </tr>\n",
       "    <tr>\n",
       "      <th>17</th>\n",
       "      <td>/home/casper/repos/openbr/data/MEDS/img/S008-0...</td>\n",
       "      <td>0.624450</td>\n",
       "    </tr>\n",
       "    <tr>\n",
       "      <th>18</th>\n",
       "      <td>/home/casper/repos/openbr/data/MEDS/img/S008-0...</td>\n",
       "      <td>0.986578</td>\n",
       "    </tr>\n",
       "    <tr>\n",
       "      <th>19</th>\n",
       "      <td>/home/casper/repos/openbr/data/MEDS/img/S008-0...</td>\n",
       "      <td>1.166910</td>\n",
       "    </tr>\n",
       "    <tr>\n",
       "      <th>20</th>\n",
       "      <td>/home/casper/repos/openbr/data/MEDS/img/S008-0...</td>\n",
       "      <td>1.000730</td>\n",
       "    </tr>\n",
       "    <tr>\n",
       "      <th>21</th>\n",
       "      <td>/home/casper/repos/openbr/data/MEDS/img/S008-0...</td>\n",
       "      <td>0.991544</td>\n",
       "    </tr>\n",
       "    <tr>\n",
       "      <th>22</th>\n",
       "      <td>/home/casper/repos/openbr/data/MEDS/img/S008-0...</td>\n",
       "      <td>0.127326</td>\n",
       "    </tr>\n",
       "    <tr>\n",
       "      <th>23</th>\n",
       "      <td>/home/casper/repos/openbr/data/MEDS/img/S008-0...</td>\n",
       "      <td>0.108652</td>\n",
       "    </tr>\n",
       "    <tr>\n",
       "      <th>24</th>\n",
       "      <td>/home/casper/repos/openbr/data/MEDS/img/S009-0...</td>\n",
       "      <td>1.170110</td>\n",
       "    </tr>\n",
       "    <tr>\n",
       "      <th>25</th>\n",
       "      <td>/home/casper/repos/openbr/data/MEDS/img/S010-0...</td>\n",
       "      <td>0.370684</td>\n",
       "    </tr>\n",
       "    <tr>\n",
       "      <th>26</th>\n",
       "      <td>/home/casper/repos/openbr/data/MEDS/img/S011-0...</td>\n",
       "      <td>1.217880</td>\n",
       "    </tr>\n",
       "    <tr>\n",
       "      <th>27</th>\n",
       "      <td>/home/casper/repos/openbr/data/MEDS/img/S012-0...</td>\n",
       "      <td>0.506403</td>\n",
       "    </tr>\n",
       "    <tr>\n",
       "      <th>28</th>\n",
       "      <td>/home/casper/repos/openbr/data/MEDS/img/S013-0...</td>\n",
       "      <td>0.658567</td>\n",
       "    </tr>\n",
       "    <tr>\n",
       "      <th>29</th>\n",
       "      <td>/home/casper/repos/openbr/data/MEDS/img/S013-0...</td>\n",
       "      <td>0.190188</td>\n",
       "    </tr>\n",
       "    <tr>\n",
       "      <th>...</th>\n",
       "      <td>...</td>\n",
       "      <td>...</td>\n",
       "    </tr>\n",
       "    <tr>\n",
       "      <th>1154</th>\n",
       "      <td>/home/casper/repos/openbr/data/MEDS/img/S504-0...</td>\n",
       "      <td>0.085253</td>\n",
       "    </tr>\n",
       "    <tr>\n",
       "      <th>1155</th>\n",
       "      <td>/home/casper/repos/openbr/data/MEDS/img/S505-0...</td>\n",
       "      <td>0.511813</td>\n",
       "    </tr>\n",
       "    <tr>\n",
       "      <th>1156</th>\n",
       "      <td>/home/casper/repos/openbr/data/MEDS/img/S505-0...</td>\n",
       "      <td>0.115450</td>\n",
       "    </tr>\n",
       "    <tr>\n",
       "      <th>1157</th>\n",
       "      <td>/home/casper/repos/openbr/data/MEDS/img/S506-0...</td>\n",
       "      <td>0.669663</td>\n",
       "    </tr>\n",
       "    <tr>\n",
       "      <th>1158</th>\n",
       "      <td>/home/casper/repos/openbr/data/MEDS/img/S506-0...</td>\n",
       "      <td>0.105997</td>\n",
       "    </tr>\n",
       "    <tr>\n",
       "      <th>1159</th>\n",
       "      <td>/home/casper/repos/openbr/data/MEDS/img/S506-0...</td>\n",
       "      <td>0.259880</td>\n",
       "    </tr>\n",
       "    <tr>\n",
       "      <th>1160</th>\n",
       "      <td>/home/casper/repos/openbr/data/MEDS/img/S507-0...</td>\n",
       "      <td>0.441564</td>\n",
       "    </tr>\n",
       "    <tr>\n",
       "      <th>1161</th>\n",
       "      <td>/home/casper/repos/openbr/data/MEDS/img/S507-0...</td>\n",
       "      <td>0.915418</td>\n",
       "    </tr>\n",
       "    <tr>\n",
       "      <th>1162</th>\n",
       "      <td>/home/casper/repos/openbr/data/MEDS/img/S507-0...</td>\n",
       "      <td>0.758511</td>\n",
       "    </tr>\n",
       "    <tr>\n",
       "      <th>1163</th>\n",
       "      <td>/home/casper/repos/openbr/data/MEDS/img/S507-0...</td>\n",
       "      <td>0.744456</td>\n",
       "    </tr>\n",
       "    <tr>\n",
       "      <th>1164</th>\n",
       "      <td>/home/casper/repos/openbr/data/MEDS/img/S508-0...</td>\n",
       "      <td>0.105095</td>\n",
       "    </tr>\n",
       "    <tr>\n",
       "      <th>1165</th>\n",
       "      <td>/home/casper/repos/openbr/data/MEDS/img/S508-0...</td>\n",
       "      <td>0.165821</td>\n",
       "    </tr>\n",
       "    <tr>\n",
       "      <th>1166</th>\n",
       "      <td>/home/casper/repos/openbr/data/MEDS/img/S509-0...</td>\n",
       "      <td>0.119683</td>\n",
       "    </tr>\n",
       "    <tr>\n",
       "      <th>1167</th>\n",
       "      <td>/home/casper/repos/openbr/data/MEDS/img/S510-0...</td>\n",
       "      <td>0.768224</td>\n",
       "    </tr>\n",
       "    <tr>\n",
       "      <th>1168</th>\n",
       "      <td>/home/casper/repos/openbr/data/MEDS/img/S510-0...</td>\n",
       "      <td>0.423452</td>\n",
       "    </tr>\n",
       "    <tr>\n",
       "      <th>1169</th>\n",
       "      <td>/home/casper/repos/openbr/data/MEDS/img/S510-0...</td>\n",
       "      <td>-0.174920</td>\n",
       "    </tr>\n",
       "    <tr>\n",
       "      <th>1170</th>\n",
       "      <td>/home/casper/repos/openbr/data/MEDS/img/S510-0...</td>\n",
       "      <td>0.375586</td>\n",
       "    </tr>\n",
       "    <tr>\n",
       "      <th>1171</th>\n",
       "      <td>/home/casper/repos/openbr/data/MEDS/img/S511-0...</td>\n",
       "      <td>-0.083603</td>\n",
       "    </tr>\n",
       "    <tr>\n",
       "      <th>1172</th>\n",
       "      <td>/home/casper/repos/openbr/data/MEDS/img/S512-0...</td>\n",
       "      <td>1.010400</td>\n",
       "    </tr>\n",
       "    <tr>\n",
       "      <th>1173</th>\n",
       "      <td>/home/casper/repos/openbr/data/MEDS/img/S512-0...</td>\n",
       "      <td>-0.201644</td>\n",
       "    </tr>\n",
       "    <tr>\n",
       "      <th>1174</th>\n",
       "      <td>/home/casper/repos/openbr/data/MEDS/img/S513-0...</td>\n",
       "      <td>0.215741</td>\n",
       "    </tr>\n",
       "    <tr>\n",
       "      <th>1175</th>\n",
       "      <td>/home/casper/repos/openbr/data/MEDS/img/S513-0...</td>\n",
       "      <td>0.107703</td>\n",
       "    </tr>\n",
       "    <tr>\n",
       "      <th>1176</th>\n",
       "      <td>/home/casper/repos/openbr/data/MEDS/img/S514-0...</td>\n",
       "      <td>0.082223</td>\n",
       "    </tr>\n",
       "    <tr>\n",
       "      <th>1177</th>\n",
       "      <td>/home/casper/repos/openbr/data/MEDS/img/S515-0...</td>\n",
       "      <td>0.591151</td>\n",
       "    </tr>\n",
       "    <tr>\n",
       "      <th>1178</th>\n",
       "      <td>/home/casper/repos/openbr/data/MEDS/img/S516-0...</td>\n",
       "      <td>-0.181018</td>\n",
       "    </tr>\n",
       "    <tr>\n",
       "      <th>1179</th>\n",
       "      <td>/home/casper/repos/openbr/data/MEDS/img/S516-0...</td>\n",
       "      <td>0.448240</td>\n",
       "    </tr>\n",
       "    <tr>\n",
       "      <th>1180</th>\n",
       "      <td>/home/casper/repos/openbr/data/MEDS/img/S517-0...</td>\n",
       "      <td>1.055790</td>\n",
       "    </tr>\n",
       "    <tr>\n",
       "      <th>1181</th>\n",
       "      <td>/home/casper/repos/openbr/data/MEDS/img/S517-0...</td>\n",
       "      <td>0.174938</td>\n",
       "    </tr>\n",
       "    <tr>\n",
       "      <th>1182</th>\n",
       "      <td>/home/casper/repos/openbr/data/MEDS/img/S518-0...</td>\n",
       "      <td>-0.028276</td>\n",
       "    </tr>\n",
       "    <tr>\n",
       "      <th>1183</th>\n",
       "      <td>/home/casper/repos/openbr/data/MEDS/img/S518-0...</td>\n",
       "      <td>0.132295</td>\n",
       "    </tr>\n",
       "  </tbody>\n",
       "</table>\n",
       "<p>1184 rows × 2 columns</p>\n",
       "</div>"
      ],
      "text/plain": [
       "                                                  image    scores\n",
       "0     /home/casper/repos/openbr/data/MEDS/img/S001-0... -0.036805\n",
       "1     /home/casper/repos/openbr/data/MEDS/img/S001-0... -0.115844\n",
       "2     /home/casper/repos/openbr/data/MEDS/img/S001-0...  0.127785\n",
       "3     /home/casper/repos/openbr/data/MEDS/img/S001-0... -0.016578\n",
       "4     /home/casper/repos/openbr/data/MEDS/img/S001-0... -0.096056\n",
       "5     /home/casper/repos/openbr/data/MEDS/img/S001-0...  0.253419\n",
       "6     /home/casper/repos/openbr/data/MEDS/img/S001-0...  0.013640\n",
       "7     /home/casper/repos/openbr/data/MEDS/img/S001-0... -0.060900\n",
       "8     /home/casper/repos/openbr/data/MEDS/img/S001-0...  0.030343\n",
       "9     /home/casper/repos/openbr/data/MEDS/img/S002-0...  0.412170\n",
       "10    /home/casper/repos/openbr/data/MEDS/img/S003-0...  0.372366\n",
       "11    /home/casper/repos/openbr/data/MEDS/img/S004-0... -0.402846\n",
       "12    /home/casper/repos/openbr/data/MEDS/img/S005-0...  0.516820\n",
       "13    /home/casper/repos/openbr/data/MEDS/img/S006-0... -0.292692\n",
       "14    /home/casper/repos/openbr/data/MEDS/img/S006-0... -0.030109\n",
       "15    /home/casper/repos/openbr/data/MEDS/img/S006-0...  0.380429\n",
       "16    /home/casper/repos/openbr/data/MEDS/img/S007-0...  0.111889\n",
       "17    /home/casper/repos/openbr/data/MEDS/img/S008-0...  0.624450\n",
       "18    /home/casper/repos/openbr/data/MEDS/img/S008-0...  0.986578\n",
       "19    /home/casper/repos/openbr/data/MEDS/img/S008-0...  1.166910\n",
       "20    /home/casper/repos/openbr/data/MEDS/img/S008-0...  1.000730\n",
       "21    /home/casper/repos/openbr/data/MEDS/img/S008-0...  0.991544\n",
       "22    /home/casper/repos/openbr/data/MEDS/img/S008-0...  0.127326\n",
       "23    /home/casper/repos/openbr/data/MEDS/img/S008-0...  0.108652\n",
       "24    /home/casper/repos/openbr/data/MEDS/img/S009-0...  1.170110\n",
       "25    /home/casper/repos/openbr/data/MEDS/img/S010-0...  0.370684\n",
       "26    /home/casper/repos/openbr/data/MEDS/img/S011-0...  1.217880\n",
       "27    /home/casper/repos/openbr/data/MEDS/img/S012-0...  0.506403\n",
       "28    /home/casper/repos/openbr/data/MEDS/img/S013-0...  0.658567\n",
       "29    /home/casper/repos/openbr/data/MEDS/img/S013-0...  0.190188\n",
       "...                                                 ...       ...\n",
       "1154  /home/casper/repos/openbr/data/MEDS/img/S504-0...  0.085253\n",
       "1155  /home/casper/repos/openbr/data/MEDS/img/S505-0...  0.511813\n",
       "1156  /home/casper/repos/openbr/data/MEDS/img/S505-0...  0.115450\n",
       "1157  /home/casper/repos/openbr/data/MEDS/img/S506-0...  0.669663\n",
       "1158  /home/casper/repos/openbr/data/MEDS/img/S506-0...  0.105997\n",
       "1159  /home/casper/repos/openbr/data/MEDS/img/S506-0...  0.259880\n",
       "1160  /home/casper/repos/openbr/data/MEDS/img/S507-0...  0.441564\n",
       "1161  /home/casper/repos/openbr/data/MEDS/img/S507-0...  0.915418\n",
       "1162  /home/casper/repos/openbr/data/MEDS/img/S507-0...  0.758511\n",
       "1163  /home/casper/repos/openbr/data/MEDS/img/S507-0...  0.744456\n",
       "1164  /home/casper/repos/openbr/data/MEDS/img/S508-0...  0.105095\n",
       "1165  /home/casper/repos/openbr/data/MEDS/img/S508-0...  0.165821\n",
       "1166  /home/casper/repos/openbr/data/MEDS/img/S509-0...  0.119683\n",
       "1167  /home/casper/repos/openbr/data/MEDS/img/S510-0...  0.768224\n",
       "1168  /home/casper/repos/openbr/data/MEDS/img/S510-0...  0.423452\n",
       "1169  /home/casper/repos/openbr/data/MEDS/img/S510-0... -0.174920\n",
       "1170  /home/casper/repos/openbr/data/MEDS/img/S510-0...  0.375586\n",
       "1171  /home/casper/repos/openbr/data/MEDS/img/S511-0... -0.083603\n",
       "1172  /home/casper/repos/openbr/data/MEDS/img/S512-0...  1.010400\n",
       "1173  /home/casper/repos/openbr/data/MEDS/img/S512-0... -0.201644\n",
       "1174  /home/casper/repos/openbr/data/MEDS/img/S513-0...  0.215741\n",
       "1175  /home/casper/repos/openbr/data/MEDS/img/S513-0...  0.107703\n",
       "1176  /home/casper/repos/openbr/data/MEDS/img/S514-0...  0.082223\n",
       "1177  /home/casper/repos/openbr/data/MEDS/img/S515-0...  0.591151\n",
       "1178  /home/casper/repos/openbr/data/MEDS/img/S516-0... -0.181018\n",
       "1179  /home/casper/repos/openbr/data/MEDS/img/S516-0...  0.448240\n",
       "1180  /home/casper/repos/openbr/data/MEDS/img/S517-0...  1.055790\n",
       "1181  /home/casper/repos/openbr/data/MEDS/img/S517-0...  0.174938\n",
       "1182  /home/casper/repos/openbr/data/MEDS/img/S518-0... -0.028276\n",
       "1183  /home/casper/repos/openbr/data/MEDS/img/S518-0...  0.132295\n",
       "\n",
       "[1184 rows x 2 columns]"
      ]
     },
     "execution_count": 97,
     "metadata": {},
     "output_type": "execute_result"
    }
   ],
   "source": []
  },
  {
   "cell_type": "code",
   "execution_count": 98,
   "metadata": {
    "collapsed": true
   },
   "outputs": [],
   "source": [
    "def compare(targets, query, br):\n",
    "    scoresmat = br.br_compare_template_lists(targets, query)\n",
    "    print scoresmat\n",
    "    return scoresmat\n",
    "    \n",
    "    "
   ]
  },
  {
   "cell_type": "code",
   "execution_count": 6,
   "metadata": {
    "collapsed": true
   },
   "outputs": [],
   "source": [
    "def enrollFaces(pics, br):\n",
    "    images = os.listdir(pics)\n",
    "    templatesToEnroll = [];\n",
    "    for f in images:\n",
    "        aPic = open(os.path.join(pics, f), 'rb').read()\n",
    "        aPicTmpl = br.br_load_img(aPic, len(aPic))\n",
    "        templatesToEnroll.append(aPicTmpl)\n",
    "    print len(templatesToEnroll)\n",
    "    a = br.br_enroll_n(*templatesToEnroll)\n",
    "    print a\n",
    "    return (a, br)"
   ]
  },
  {
   "cell_type": "code",
   "execution_count": 7,
   "metadata": {
    "collapsed": false,
    "scrolled": true
   },
   "outputs": [
    {
     "name": "stdout",
     "output_type": "stream",
     "text": [
      "21\n"
     ]
    },
    {
     "ename": "TypeError",
     "evalue": "object of type 'int' has no len()",
     "output_type": "error",
     "traceback": [
      "\u001b[1;31m---------------------------------------------------------------------------\u001b[0m",
      "\u001b[1;31mTypeError\u001b[0m                                 Traceback (most recent call last)",
      "\u001b[1;32m<ipython-input-7-b11305683520>\u001b[0m in \u001b[0;36m<module>\u001b[1;34m()\u001b[0m\n\u001b[0;32m      3\u001b[0m \u001b[1;33m\u001b[0m\u001b[0m\n\u001b[0;32m      4\u001b[0m \u001b[0mbr\u001b[0m \u001b[1;33m=\u001b[0m \u001b[0msetup\u001b[0m\u001b[1;33m(\u001b[0m\u001b[1;33m[\u001b[0m\u001b[1;33m]\u001b[0m\u001b[1;33m)\u001b[0m\u001b[1;33m\u001b[0m\u001b[0m\n\u001b[1;32m----> 5\u001b[1;33m \u001b[1;33m(\u001b[0m\u001b[0mq\u001b[0m\u001b[1;33m,\u001b[0m \u001b[0mbr\u001b[0m\u001b[1;33m)\u001b[0m \u001b[1;33m=\u001b[0m \u001b[0menrollFaces\u001b[0m\u001b[1;33m(\u001b[0m\u001b[0mpictureDest\u001b[0m\u001b[1;33m,\u001b[0m \u001b[0mbr\u001b[0m\u001b[1;33m)\u001b[0m\u001b[1;33m\u001b[0m\u001b[0m\n\u001b[0m\u001b[0;32m      6\u001b[0m \u001b[1;33m(\u001b[0m\u001b[0mt\u001b[0m\u001b[1;33m,\u001b[0m \u001b[0mbr\u001b[0m\u001b[1;33m)\u001b[0m \u001b[1;33m=\u001b[0m \u001b[0menrollFace\u001b[0m\u001b[1;33m(\u001b[0m\u001b[0mpictureDest\u001b[0m \u001b[1;33m+\u001b[0m \u001b[1;34m'Amelie_Mauresmo_0006.jpg'\u001b[0m\u001b[1;33m,\u001b[0m \u001b[0mbr\u001b[0m\u001b[1;33m)\u001b[0m\u001b[1;33m\u001b[0m\u001b[0m\n\u001b[0;32m      7\u001b[0m \u001b[0mscoresmat\u001b[0m \u001b[1;33m=\u001b[0m \u001b[0mcompare\u001b[0m\u001b[1;33m(\u001b[0m\u001b[0mt\u001b[0m\u001b[1;33m,\u001b[0m \u001b[0mq\u001b[0m\u001b[1;33m,\u001b[0m \u001b[0mbr\u001b[0m\u001b[1;33m)\u001b[0m\u001b[1;33m\u001b[0m\u001b[0m\n",
      "\u001b[1;32m<ipython-input-6-e2cd07672cbd>\u001b[0m in \u001b[0;36menrollFaces\u001b[1;34m(pics, br)\u001b[0m\n\u001b[0;32m      7\u001b[0m         \u001b[0mtemplatesToEnroll\u001b[0m\u001b[1;33m.\u001b[0m\u001b[0mappend\u001b[0m\u001b[1;33m(\u001b[0m\u001b[0maPicTmpl\u001b[0m\u001b[1;33m)\u001b[0m\u001b[1;33m\u001b[0m\u001b[0m\n\u001b[0;32m      8\u001b[0m     \u001b[1;32mprint\u001b[0m \u001b[0mlen\u001b[0m\u001b[1;33m(\u001b[0m\u001b[0mtemplatesToEnroll\u001b[0m\u001b[1;33m)\u001b[0m\u001b[1;33m\u001b[0m\u001b[0m\n\u001b[1;32m----> 9\u001b[1;33m     \u001b[0ma\u001b[0m \u001b[1;33m=\u001b[0m \u001b[0mbr\u001b[0m\u001b[1;33m.\u001b[0m\u001b[0mbr_enroll_n\u001b[0m\u001b[1;33m(\u001b[0m\u001b[1;33m*\u001b[0m\u001b[0mtemplatesToEnroll\u001b[0m\u001b[1;33m)\u001b[0m\u001b[1;33m\u001b[0m\u001b[0m\n\u001b[0m\u001b[0;32m     10\u001b[0m     \u001b[1;32mprint\u001b[0m \u001b[0ma\u001b[0m\u001b[1;33m\u001b[0m\u001b[0m\n\u001b[0;32m     11\u001b[0m     \u001b[1;32mreturn\u001b[0m \u001b[1;33m(\u001b[0m\u001b[0ma\u001b[0m\u001b[1;33m,\u001b[0m \u001b[0mbr\u001b[0m\u001b[1;33m)\u001b[0m\u001b[1;33m\u001b[0m\u001b[0m\n",
      "\u001b[1;32m/usr/lib/python2.7/dist-packages/brpy/__init__.pyc\u001b[0m in \u001b[0;36mcall_func\u001b[1;34m(one, two, *rest)\u001b[0m\n\u001b[0;32m     27\u001b[0m     '''\n\u001b[0;32m     28\u001b[0m     \u001b[1;32mdef\u001b[0m \u001b[0mcall_func\u001b[0m\u001b[1;33m(\u001b[0m\u001b[0mone\u001b[0m\u001b[1;33m,\u001b[0m \u001b[0mtwo\u001b[0m\u001b[1;33m,\u001b[0m \u001b[1;33m*\u001b[0m\u001b[0mrest\u001b[0m\u001b[1;33m)\u001b[0m\u001b[1;33m:\u001b[0m\u001b[1;33m\u001b[0m\u001b[0m\n\u001b[1;32m---> 29\u001b[1;33m         \u001b[0marr_type\u001b[0m \u001b[1;33m=\u001b[0m \u001b[0mc_char_p\u001b[0m\u001b[1;33m*\u001b[0m\u001b[0mlen\u001b[0m\u001b[1;33m(\u001b[0m\u001b[0mtwo\u001b[0m\u001b[1;33m)\u001b[0m\u001b[1;33m\u001b[0m\u001b[0m\n\u001b[0m\u001b[0;32m     30\u001b[0m         \u001b[0mfunc\u001b[0m\u001b[1;33m.\u001b[0m\u001b[0margtypes\u001b[0m \u001b[1;33m=\u001b[0m \u001b[1;33m[\u001b[0m\u001b[0mc_int\u001b[0m\u001b[1;33m,\u001b[0m \u001b[0marr_type\u001b[0m\u001b[1;33m]\u001b[0m \u001b[1;33m+\u001b[0m \u001b[0m_string_args\u001b[0m\u001b[1;33m(\u001b[0m\u001b[0mn\u001b[0m\u001b[1;33m)\u001b[0m \u001b[1;33m+\u001b[0m \u001b[0mlist\u001b[0m\u001b[1;33m(\u001b[0m\u001b[0margs\u001b[0m\u001b[1;33m)\u001b[0m\u001b[1;33m\u001b[0m\u001b[0m\n\u001b[0;32m     31\u001b[0m         \u001b[0marr\u001b[0m \u001b[1;33m=\u001b[0m \u001b[0marr_type\u001b[0m\u001b[1;33m(\u001b[0m\u001b[1;33m*\u001b[0m\u001b[0mmap\u001b[0m\u001b[1;33m(\u001b[0m\u001b[0mc_char_p\u001b[0m\u001b[1;33m,\u001b[0m \u001b[0mtwo\u001b[0m\u001b[1;33m)\u001b[0m\u001b[1;33m)\u001b[0m\u001b[1;33m\u001b[0m\u001b[0m\n",
      "\u001b[1;31mTypeError\u001b[0m: object of type 'int' has no len()"
     ]
    }
   ],
   "source": [
    "picA = 'S001-01-t10_01.jpg'\n",
    "picB = 'S001-02-t10_01.jpg'\n",
    "\n",
    "br = setup([])\n",
    "(q, br) = enrollFaces(pictureDest, br)\n",
    "(t, br) = enrollFace(pictureDest + 'Amelie_Mauresmo_0006.jpg', br)\n",
    "scoresmat = compare(t, q, br)  \n",
    "\n"
   ]
  },
  {
   "cell_type": "code",
   "execution_count": 54,
   "metadata": {
    "collapsed": false
   },
   "outputs": [],
   "source": [
    "scores = []\n",
    "for r in range(br.br_num_templates(t)):\n",
    "        for c in range(br.br_num_templates(q)):\n",
    "            scores.append((picB, br.br_get_matrix_output_at(scoresmat, r, c)))\n"
   ]
  },
  {
   "cell_type": "code",
   "execution_count": 55,
   "metadata": {
    "collapsed": false
   },
   "outputs": [
    {
     "data": {
      "text/plain": [
       "[('S001-02-t10_01.jpg', 3.278083562850952)]"
      ]
     },
     "execution_count": 55,
     "metadata": {},
     "output_type": "execute_result"
    }
   ],
   "source": []
  },
  {
   "cell_type": "code",
   "execution_count": null,
   "metadata": {
    "collapsed": true
   },
   "outputs": [],
   "source": []
  },
  {
   "cell_type": "code",
   "execution_count": null,
   "metadata": {
    "collapsed": true
   },
   "outputs": [],
   "source": []
  }
 ],
 "metadata": {
  "kernelspec": {
   "display_name": "Python 2",
   "language": "python",
   "name": "python2"
  },
  "language_info": {
   "codemirror_mode": {
    "name": "ipython",
    "version": 2
   },
   "file_extension": ".py",
   "mimetype": "text/x-python",
   "name": "python",
   "nbconvert_exporter": "python",
   "pygments_lexer": "ipython2",
   "version": "2.7.11+"
  }
 },
 "nbformat": 4,
 "nbformat_minor": 0
}
